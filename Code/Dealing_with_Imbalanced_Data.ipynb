{
  "nbformat": 4,
  "nbformat_minor": 0,
  "metadata": {
    "colab": {
      "name": "Dealing with Imbalanced Data.ipynb",
      "provenance": []
    },
    "kernelspec": {
      "name": "python3",
      "display_name": "Python 3"
    },
    "language_info": {
      "name": "python"
    }
  },
  "cells": [
    {
      "cell_type": "code",
      "metadata": {
        "id": "2QURlIhBb79W"
      },
      "source": [
        "import pandas as pd\n",
        "import numpy as np\n",
        "import matplotlib.pyplot as plt\n",
        "%matplotlib inline\n",
        "import random\n",
        "np.random.seed(42)\n",
        "from scipy import stats\n",
        "from sklearn.linear_model import LogisticRegression\n",
        "from sklearn.preprocessing import StandardScaler\n",
        "\n",
        "from imblearn.under_sampling import RandomUnderSampler\n",
        "from imblearn.over_sampling import SMOTE\n",
        "from collections import Counter\n",
        "\n",
        "from sklearn.metrics import precision_score, recall_score, f1_score, accuracy_score, plot_confusion_matrix, confusion_matrix, plot_roc_curve"
      ],
      "execution_count": null,
      "outputs": []
    },
    {
      "cell_type": "code",
      "metadata": {
        "id": "EfXWWnAYlWTL"
      },
      "source": [
        "#reading the training and validation data into dataframe\n",
        "data_train = pd.read_csv(\"Data Science HW design model.csv\")\n",
        "data_val = pd.read_csv(\"Data Science HW design val.csv\")"
      ],
      "execution_count": null,
      "outputs": []
    },
    {
      "cell_type": "code",
      "metadata": {
        "colab": {
          "base_uri": "https://localhost:8080/"
        },
        "id": "2IY7M4MYll1d",
        "outputId": "8e27902c-32ae-43f4-affd-a86277948078"
      },
      "source": [
        "#checking the number of instances and basic details about the data, like the null values and the feature data-type\n",
        "data_train.info()"
      ],
      "execution_count": null,
      "outputs": [
        {
          "output_type": "stream",
          "name": "stdout",
          "text": [
            "<class 'pandas.core.frame.DataFrame'>\n",
            "RangeIndex: 94000 entries, 0 to 93999\n",
            "Data columns (total 31 columns):\n",
            " #   Column   Non-Null Count  Dtype  \n",
            "---  ------   --------------  -----  \n",
            " 0   A1       94000 non-null  float64\n",
            " 1   A2       94000 non-null  float64\n",
            " 2   A3       94000 non-null  float64\n",
            " 3   A4       94000 non-null  float64\n",
            " 4   A5       94000 non-null  float64\n",
            " 5   A6       94000 non-null  float64\n",
            " 6   A7       94000 non-null  float64\n",
            " 7   A8       94000 non-null  float64\n",
            " 8   A9       94000 non-null  float64\n",
            " 9   A10      94000 non-null  float64\n",
            " 10  A11      94000 non-null  float64\n",
            " 11  A12      94000 non-null  float64\n",
            " 12  A13      94000 non-null  float64\n",
            " 13  A14      94000 non-null  float64\n",
            " 14  A15      94000 non-null  float64\n",
            " 15  A16      94000 non-null  float64\n",
            " 16  A17      94000 non-null  float64\n",
            " 17  A18      94000 non-null  float64\n",
            " 18  A19      94000 non-null  float64\n",
            " 19  A20      94000 non-null  float64\n",
            " 20  A21      94000 non-null  int64  \n",
            " 21  A22      94000 non-null  float64\n",
            " 22  A23      94000 non-null  float64\n",
            " 23  A24      94000 non-null  float64\n",
            " 24  A25      94000 non-null  float64\n",
            " 25  A26      94000 non-null  float64\n",
            " 26  A27      94000 non-null  float64\n",
            " 27  A28      94000 non-null  float64\n",
            " 28  A29      94000 non-null  float64\n",
            " 29  A30      94000 non-null  float64\n",
            " 30  default  94000 non-null  int64  \n",
            "dtypes: float64(29), int64(2)\n",
            "memory usage: 22.2 MB\n"
          ]
        }
      ]
    },
    {
      "cell_type": "code",
      "metadata": {
        "colab": {
          "base_uri": "https://localhost:8080/"
        },
        "id": "fb8VuQRolxeB",
        "outputId": "d04993ac-768e-4e58-8e95-8882ea805f83"
      },
      "source": [
        "#for the validation dataset\n",
        "data_val.info()"
      ],
      "execution_count": null,
      "outputs": [
        {
          "output_type": "stream",
          "name": "stdout",
          "text": [
            "<class 'pandas.core.frame.DataFrame'>\n",
            "RangeIndex: 11500 entries, 0 to 11499\n",
            "Data columns (total 31 columns):\n",
            " #   Column   Non-Null Count  Dtype  \n",
            "---  ------   --------------  -----  \n",
            " 0   A1       11500 non-null  float64\n",
            " 1   A2       11500 non-null  float64\n",
            " 2   A3       11500 non-null  float64\n",
            " 3   A4       11500 non-null  float64\n",
            " 4   A5       11500 non-null  float64\n",
            " 5   A6       11500 non-null  float64\n",
            " 6   A7       11500 non-null  float64\n",
            " 7   A8       11500 non-null  float64\n",
            " 8   A9       11500 non-null  float64\n",
            " 9   A10      11500 non-null  float64\n",
            " 10  A11      11500 non-null  float64\n",
            " 11  A12      11500 non-null  float64\n",
            " 12  A13      11500 non-null  float64\n",
            " 13  A14      11500 non-null  float64\n",
            " 14  A15      11500 non-null  float64\n",
            " 15  A16      11500 non-null  float64\n",
            " 16  A17      11500 non-null  float64\n",
            " 17  A18      11500 non-null  float64\n",
            " 18  A19      11500 non-null  float64\n",
            " 19  A20      11500 non-null  float64\n",
            " 20  A21      11500 non-null  int64  \n",
            " 21  A22      11500 non-null  float64\n",
            " 22  A23      11500 non-null  float64\n",
            " 23  A24      11500 non-null  float64\n",
            " 24  A25      11500 non-null  float64\n",
            " 25  A26      11500 non-null  float64\n",
            " 26  A27      11500 non-null  float64\n",
            " 27  A28      11500 non-null  float64\n",
            " 28  A29      11500 non-null  float64\n",
            " 29  A30      11500 non-null  float64\n",
            " 30  default  11500 non-null  int64  \n",
            "dtypes: float64(29), int64(2)\n",
            "memory usage: 2.7 MB\n"
          ]
        }
      ]
    },
    {
      "cell_type": "markdown",
      "metadata": {
        "id": "4KFGm_9Yl-cR"
      },
      "source": [
        "##Details:\n",
        "\n",
        "- We have 94,000 data instances in training dataset with 30 attributes/features and default as the labels \n",
        "\n",
        "- We have 11,500 data instances in validation dataset with similar columns and defualt as labels.\n",
        "\n",
        "- There are no null values present in each column as we can see from the information."
      ]
    },
    {
      "cell_type": "code",
      "metadata": {
        "colab": {
          "base_uri": "https://localhost:8080/",
          "height": 320
        },
        "id": "_pF4pcv8tgqQ",
        "outputId": "96cb3609-37ba-4957-c8b3-049aaae8d337"
      },
      "source": [
        "#seeing the data description to figure out the distribuition of the data and if there are any outliers present\n",
        "data_train.describe()"
      ],
      "execution_count": null,
      "outputs": [
        {
          "output_type": "execute_result",
          "data": {
            "text/html": [
              "<div>\n",
              "<style scoped>\n",
              "    .dataframe tbody tr th:only-of-type {\n",
              "        vertical-align: middle;\n",
              "    }\n",
              "\n",
              "    .dataframe tbody tr th {\n",
              "        vertical-align: top;\n",
              "    }\n",
              "\n",
              "    .dataframe thead th {\n",
              "        text-align: right;\n",
              "    }\n",
              "</style>\n",
              "<table border=\"1\" class=\"dataframe\">\n",
              "  <thead>\n",
              "    <tr style=\"text-align: right;\">\n",
              "      <th></th>\n",
              "      <th>A1</th>\n",
              "      <th>A2</th>\n",
              "      <th>A3</th>\n",
              "      <th>A4</th>\n",
              "      <th>A5</th>\n",
              "      <th>A6</th>\n",
              "      <th>A7</th>\n",
              "      <th>A8</th>\n",
              "      <th>A9</th>\n",
              "      <th>A10</th>\n",
              "      <th>A11</th>\n",
              "      <th>A12</th>\n",
              "      <th>A13</th>\n",
              "      <th>A14</th>\n",
              "      <th>A15</th>\n",
              "      <th>A16</th>\n",
              "      <th>A17</th>\n",
              "      <th>A18</th>\n",
              "      <th>A19</th>\n",
              "      <th>A20</th>\n",
              "      <th>A21</th>\n",
              "      <th>A22</th>\n",
              "      <th>A23</th>\n",
              "      <th>A24</th>\n",
              "      <th>A25</th>\n",
              "      <th>A26</th>\n",
              "      <th>A27</th>\n",
              "      <th>A28</th>\n",
              "      <th>A29</th>\n",
              "      <th>A30</th>\n",
              "      <th>default</th>\n",
              "    </tr>\n",
              "  </thead>\n",
              "  <tbody>\n",
              "    <tr>\n",
              "      <th>count</th>\n",
              "      <td>94000.000000</td>\n",
              "      <td>94000.000000</td>\n",
              "      <td>94000.000000</td>\n",
              "      <td>94000.000000</td>\n",
              "      <td>94000.000000</td>\n",
              "      <td>94000.000000</td>\n",
              "      <td>94000.000000</td>\n",
              "      <td>94000.000000</td>\n",
              "      <td>94000.000000</td>\n",
              "      <td>94000.000000</td>\n",
              "      <td>94000.000000</td>\n",
              "      <td>94000.000000</td>\n",
              "      <td>94000.000000</td>\n",
              "      <td>94000.000000</td>\n",
              "      <td>9.400000e+04</td>\n",
              "      <td>94000.000000</td>\n",
              "      <td>94000.000000</td>\n",
              "      <td>94000.000000</td>\n",
              "      <td>94000.000000</td>\n",
              "      <td>94000.000000</td>\n",
              "      <td>94000.000000</td>\n",
              "      <td>94000.000000</td>\n",
              "      <td>94000.000000</td>\n",
              "      <td>94000.000000</td>\n",
              "      <td>94000.000000</td>\n",
              "      <td>94000.000000</td>\n",
              "      <td>94000.000000</td>\n",
              "      <td>94000.000000</td>\n",
              "      <td>94000.000000</td>\n",
              "      <td>94000.000000</td>\n",
              "      <td>94000.000000</td>\n",
              "    </tr>\n",
              "    <tr>\n",
              "      <th>mean</th>\n",
              "      <td>12.134211</td>\n",
              "      <td>83.838361</td>\n",
              "      <td>7319.620881</td>\n",
              "      <td>13449.501569</td>\n",
              "      <td>33.507640</td>\n",
              "      <td>36.983300</td>\n",
              "      <td>1.518232</td>\n",
              "      <td>124.108845</td>\n",
              "      <td>1.697824</td>\n",
              "      <td>1.407075</td>\n",
              "      <td>82.561804</td>\n",
              "      <td>11.364377</td>\n",
              "      <td>20.453328</td>\n",
              "      <td>55.172549</td>\n",
              "      <td>1.036205e+05</td>\n",
              "      <td>0.282347</td>\n",
              "      <td>4113.993992</td>\n",
              "      <td>0.190747</td>\n",
              "      <td>0.112162</td>\n",
              "      <td>1.545606</td>\n",
              "      <td>53.707096</td>\n",
              "      <td>0.074435</td>\n",
              "      <td>0.008550</td>\n",
              "      <td>0.013537</td>\n",
              "      <td>0.133531</td>\n",
              "      <td>290.756534</td>\n",
              "      <td>357.976444</td>\n",
              "      <td>103.482568</td>\n",
              "      <td>28.847016</td>\n",
              "      <td>38.509910</td>\n",
              "      <td>0.042553</td>\n",
              "    </tr>\n",
              "    <tr>\n",
              "      <th>std</th>\n",
              "      <td>6.587858</td>\n",
              "      <td>8.672843</td>\n",
              "      <td>2652.539364</td>\n",
              "      <td>8197.452662</td>\n",
              "      <td>11.906865</td>\n",
              "      <td>14.209314</td>\n",
              "      <td>1.007398</td>\n",
              "      <td>33.130292</td>\n",
              "      <td>0.776810</td>\n",
              "      <td>0.652138</td>\n",
              "      <td>10.740732</td>\n",
              "      <td>2.767727</td>\n",
              "      <td>11.671429</td>\n",
              "      <td>12.015331</td>\n",
              "      <td>5.954836e+04</td>\n",
              "      <td>0.252047</td>\n",
              "      <td>1300.549863</td>\n",
              "      <td>0.181137</td>\n",
              "      <td>0.142458</td>\n",
              "      <td>0.627285</td>\n",
              "      <td>56.617973</td>\n",
              "      <td>0.138356</td>\n",
              "      <td>0.020052</td>\n",
              "      <td>0.029078</td>\n",
              "      <td>0.156658</td>\n",
              "      <td>471.958770</td>\n",
              "      <td>597.594147</td>\n",
              "      <td>136.248095</td>\n",
              "      <td>62.759062</td>\n",
              "      <td>90.882963</td>\n",
              "      <td>0.201849</td>\n",
              "    </tr>\n",
              "    <tr>\n",
              "      <th>min</th>\n",
              "      <td>0.000000</td>\n",
              "      <td>20.750000</td>\n",
              "      <td>0.000000</td>\n",
              "      <td>0.000000</td>\n",
              "      <td>0.000000</td>\n",
              "      <td>0.000000</td>\n",
              "      <td>0.000000</td>\n",
              "      <td>0.000000</td>\n",
              "      <td>0.000000</td>\n",
              "      <td>0.000000</td>\n",
              "      <td>0.000000</td>\n",
              "      <td>1.460000</td>\n",
              "      <td>0.000000</td>\n",
              "      <td>0.000000</td>\n",
              "      <td>0.000000e+00</td>\n",
              "      <td>0.000000</td>\n",
              "      <td>0.000000</td>\n",
              "      <td>0.000000</td>\n",
              "      <td>0.000000</td>\n",
              "      <td>0.000000</td>\n",
              "      <td>1.000000</td>\n",
              "      <td>-0.010000</td>\n",
              "      <td>-0.020000</td>\n",
              "      <td>-0.020000</td>\n",
              "      <td>0.000000</td>\n",
              "      <td>-751.260000</td>\n",
              "      <td>-405.370000</td>\n",
              "      <td>-616.230000</td>\n",
              "      <td>-490.160000</td>\n",
              "      <td>-719.720000</td>\n",
              "      <td>0.000000</td>\n",
              "    </tr>\n",
              "    <tr>\n",
              "      <th>25%</th>\n",
              "      <td>7.670000</td>\n",
              "      <td>79.000000</td>\n",
              "      <td>5618.627500</td>\n",
              "      <td>8700.000000</td>\n",
              "      <td>26.880000</td>\n",
              "      <td>28.780000</td>\n",
              "      <td>0.820000</td>\n",
              "      <td>103.027500</td>\n",
              "      <td>1.272000</td>\n",
              "      <td>1.000000</td>\n",
              "      <td>77.270000</td>\n",
              "      <td>9.640000</td>\n",
              "      <td>13.600000</td>\n",
              "      <td>49.070000</td>\n",
              "      <td>6.562992e+04</td>\n",
              "      <td>0.130000</td>\n",
              "      <td>3422.220000</td>\n",
              "      <td>0.080000</td>\n",
              "      <td>0.000000</td>\n",
              "      <td>1.140000</td>\n",
              "      <td>19.000000</td>\n",
              "      <td>0.010000</td>\n",
              "      <td>0.000000</td>\n",
              "      <td>0.000000</td>\n",
              "      <td>0.060000</td>\n",
              "      <td>0.000000</td>\n",
              "      <td>0.000000</td>\n",
              "      <td>14.970000</td>\n",
              "      <td>0.000000</td>\n",
              "      <td>0.000000</td>\n",
              "      <td>0.000000</td>\n",
              "    </tr>\n",
              "    <tr>\n",
              "      <th>50%</th>\n",
              "      <td>12.020000</td>\n",
              "      <td>84.360000</td>\n",
              "      <td>7285.590000</td>\n",
              "      <td>11862.650000</td>\n",
              "      <td>32.770000</td>\n",
              "      <td>35.940000</td>\n",
              "      <td>1.420000</td>\n",
              "      <td>127.240000</td>\n",
              "      <td>1.667000</td>\n",
              "      <td>1.399000</td>\n",
              "      <td>83.340000</td>\n",
              "      <td>11.330000</td>\n",
              "      <td>19.110000</td>\n",
              "      <td>55.190000</td>\n",
              "      <td>9.074253e+04</td>\n",
              "      <td>0.250000</td>\n",
              "      <td>4050.000000</td>\n",
              "      <td>0.170000</td>\n",
              "      <td>0.090000</td>\n",
              "      <td>1.450000</td>\n",
              "      <td>39.000000</td>\n",
              "      <td>0.030000</td>\n",
              "      <td>0.000000</td>\n",
              "      <td>0.010000</td>\n",
              "      <td>0.090000</td>\n",
              "      <td>115.140000</td>\n",
              "      <td>102.265000</td>\n",
              "      <td>59.350000</td>\n",
              "      <td>10.500000</td>\n",
              "      <td>0.000000</td>\n",
              "      <td>0.000000</td>\n",
              "    </tr>\n",
              "    <tr>\n",
              "      <th>75%</th>\n",
              "      <td>16.080000</td>\n",
              "      <td>89.670000</td>\n",
              "      <td>8780.870000</td>\n",
              "      <td>15896.575000</td>\n",
              "      <td>39.100000</td>\n",
              "      <td>43.830000</td>\n",
              "      <td>2.020000</td>\n",
              "      <td>143.100000</td>\n",
              "      <td>2.064000</td>\n",
              "      <td>1.714000</td>\n",
              "      <td>89.010000</td>\n",
              "      <td>12.790000</td>\n",
              "      <td>25.170000</td>\n",
              "      <td>61.810000</td>\n",
              "      <td>1.282739e+05</td>\n",
              "      <td>0.360000</td>\n",
              "      <td>4668.192500</td>\n",
              "      <td>0.250000</td>\n",
              "      <td>0.140000</td>\n",
              "      <td>1.860000</td>\n",
              "      <td>69.000000</td>\n",
              "      <td>0.080000</td>\n",
              "      <td>0.010000</td>\n",
              "      <td>0.010000</td>\n",
              "      <td>0.140000</td>\n",
              "      <td>380.142500</td>\n",
              "      <td>485.880000</td>\n",
              "      <td>140.952500</td>\n",
              "      <td>34.860000</td>\n",
              "      <td>49.862500</td>\n",
              "      <td>0.000000</td>\n",
              "    </tr>\n",
              "    <tr>\n",
              "      <th>max</th>\n",
              "      <td>62.710000</td>\n",
              "      <td>100.000000</td>\n",
              "      <td>26333.500000</td>\n",
              "      <td>170300.000000</td>\n",
              "      <td>146.000000</td>\n",
              "      <td>146.000000</td>\n",
              "      <td>18.670000</td>\n",
              "      <td>524.000000</td>\n",
              "      <td>44.000000</td>\n",
              "      <td>44.000000</td>\n",
              "      <td>100.000000</td>\n",
              "      <td>35.430000</td>\n",
              "      <td>237.000000</td>\n",
              "      <td>146.000000</td>\n",
              "      <td>1.079286e+06</td>\n",
              "      <td>7.000000</td>\n",
              "      <td>20000.000000</td>\n",
              "      <td>3.250000</td>\n",
              "      <td>5.000000</td>\n",
              "      <td>8.100000</td>\n",
              "      <td>1902.000000</td>\n",
              "      <td>5.300000</td>\n",
              "      <td>0.700000</td>\n",
              "      <td>1.690000</td>\n",
              "      <td>4.080000</td>\n",
              "      <td>15288.660000</td>\n",
              "      <td>19503.760000</td>\n",
              "      <td>3265.980000</td>\n",
              "      <td>6561.930000</td>\n",
              "      <td>13487.000000</td>\n",
              "      <td>1.000000</td>\n",
              "    </tr>\n",
              "  </tbody>\n",
              "</table>\n",
              "</div>"
            ],
            "text/plain": [
              "                 A1            A2  ...           A30       default\n",
              "count  94000.000000  94000.000000  ...  94000.000000  94000.000000\n",
              "mean      12.134211     83.838361  ...     38.509910      0.042553\n",
              "std        6.587858      8.672843  ...     90.882963      0.201849\n",
              "min        0.000000     20.750000  ...   -719.720000      0.000000\n",
              "25%        7.670000     79.000000  ...      0.000000      0.000000\n",
              "50%       12.020000     84.360000  ...      0.000000      0.000000\n",
              "75%       16.080000     89.670000  ...     49.862500      0.000000\n",
              "max       62.710000    100.000000  ...  13487.000000      1.000000\n",
              "\n",
              "[8 rows x 31 columns]"
            ]
          },
          "metadata": {},
          "execution_count": 243
        }
      ]
    },
    {
      "cell_type": "code",
      "metadata": {
        "colab": {
          "base_uri": "https://localhost:8080/",
          "height": 297
        },
        "id": "xiyaqkmpq0DG",
        "outputId": "8523a2df-44eb-4c1d-b2ad-9e642879e355"
      },
      "source": [
        "#plotting the count of 1 and 0s labels to check the total instances in each class\n",
        "label_count = data_train['default']\n",
        "label_count.value_counts().plot.bar()\n",
        "label_0 = label_count[lambda x: x == 0].count()\n",
        "label_1 = label_count[lambda x : x ==1].count()\n",
        "print(f\"Total instances with 0 labels are {label_0}, which is {(label_0/(label_0+label_1))*100}% percetange from total data.\")\n",
        "print(f\"Total instances with 1 labels are {label_1}, which is {(label_1/(label_0+label_1))*100}% percetange from total data.\")"
      ],
      "execution_count": null,
      "outputs": [
        {
          "output_type": "stream",
          "name": "stdout",
          "text": [
            "Total instances with 0 labels are 90000, which is 95.74468085106383% percetange from total data.\n",
            "Total instances with 1 labels are 4000, which is 4.25531914893617% percetange from total data.\n"
          ]
        },
        {
          "output_type": "display_data",
          "data": {
            "image/png": "[encoded data removed]",
            "text/plain": [
              "<Figure size 432x288 with 1 Axes>"
            ]
          },
          "metadata": {
            "needs_background": "light"
          }
        }
      ]
    },
    {
      "cell_type": "code",
      "metadata": {
        "colab": {
          "base_uri": "https://localhost:8080/",
          "height": 320
        },
        "id": "_KQkpMimXniH",
        "outputId": "b8f8613e-82ad-49e8-e351-8bde8a381060"
      },
      "source": [
        "#same again for the validation data to check if the it has the similar distibuition\n",
        "data_val.describe()"
      ],
      "execution_count": null,
      "outputs": [
        {
          "output_type": "execute_result",
          "data": {
            "text/html": [
              "<div>\n",
              "<style scoped>\n",
              "    .dataframe tbody tr th:only-of-type {\n",
              "        vertical-align: middle;\n",
              "    }\n",
              "\n",
              "    .dataframe tbody tr th {\n",
              "        vertical-align: top;\n",
              "    }\n",
              "\n",
              "    .dataframe thead th {\n",
              "        text-align: right;\n",
              "    }\n",
              "</style>\n",
              "<table border=\"1\" class=\"dataframe\">\n",
              "  <thead>\n",
              "    <tr style=\"text-align: right;\">\n",
              "      <th></th>\n",
              "      <th>A1</th>\n",
              "      <th>A2</th>\n",
              "      <th>A3</th>\n",
              "      <th>A4</th>\n",
              "      <th>A5</th>\n",
              "      <th>A6</th>\n",
              "      <th>A7</th>\n",
              "      <th>A8</th>\n",
              "      <th>A9</th>\n",
              "      <th>A10</th>\n",
              "      <th>A11</th>\n",
              "      <th>A12</th>\n",
              "      <th>A13</th>\n",
              "      <th>A14</th>\n",
              "      <th>A15</th>\n",
              "      <th>A16</th>\n",
              "      <th>A17</th>\n",
              "      <th>A18</th>\n",
              "      <th>A19</th>\n",
              "      <th>A20</th>\n",
              "      <th>A21</th>\n",
              "      <th>A22</th>\n",
              "      <th>A23</th>\n",
              "      <th>A24</th>\n",
              "      <th>A25</th>\n",
              "      <th>A26</th>\n",
              "      <th>A27</th>\n",
              "      <th>A28</th>\n",
              "      <th>A29</th>\n",
              "      <th>A30</th>\n",
              "      <th>default</th>\n",
              "    </tr>\n",
              "  </thead>\n",
              "  <tbody>\n",
              "    <tr>\n",
              "      <th>count</th>\n",
              "      <td>11500.000000</td>\n",
              "      <td>11500.000000</td>\n",
              "      <td>11500.000000</td>\n",
              "      <td>11500.000000</td>\n",
              "      <td>11500.000000</td>\n",
              "      <td>11500.000000</td>\n",
              "      <td>11500.000000</td>\n",
              "      <td>11500.000000</td>\n",
              "      <td>11500.000000</td>\n",
              "      <td>11500.000000</td>\n",
              "      <td>11500.000000</td>\n",
              "      <td>11500.000000</td>\n",
              "      <td>11500.000000</td>\n",
              "      <td>11500.000000</td>\n",
              "      <td>11500.000000</td>\n",
              "      <td>11500.000000</td>\n",
              "      <td>11500.000000</td>\n",
              "      <td>11500.000000</td>\n",
              "      <td>11500.000000</td>\n",
              "      <td>11500.000000</td>\n",
              "      <td>11500.000000</td>\n",
              "      <td>11500.000000</td>\n",
              "      <td>11500.000000</td>\n",
              "      <td>11500.000000</td>\n",
              "      <td>11500.000000</td>\n",
              "      <td>11500.000000</td>\n",
              "      <td>11500.000000</td>\n",
              "      <td>11500.000000</td>\n",
              "      <td>11500.000000</td>\n",
              "      <td>11500.000000</td>\n",
              "      <td>11500.000000</td>\n",
              "    </tr>\n",
              "    <tr>\n",
              "      <th>mean</th>\n",
              "      <td>12.912370</td>\n",
              "      <td>82.996250</td>\n",
              "      <td>7121.193469</td>\n",
              "      <td>12969.915071</td>\n",
              "      <td>34.567032</td>\n",
              "      <td>38.290894</td>\n",
              "      <td>1.608435</td>\n",
              "      <td>121.486797</td>\n",
              "      <td>1.642194</td>\n",
              "      <td>1.363613</td>\n",
              "      <td>81.784661</td>\n",
              "      <td>11.171147</td>\n",
              "      <td>21.201802</td>\n",
              "      <td>55.923154</td>\n",
              "      <td>100743.066789</td>\n",
              "      <td>0.301730</td>\n",
              "      <td>4065.549412</td>\n",
              "      <td>0.204250</td>\n",
              "      <td>0.120132</td>\n",
              "      <td>1.586100</td>\n",
              "      <td>55.041043</td>\n",
              "      <td>0.077656</td>\n",
              "      <td>0.009178</td>\n",
              "      <td>0.014158</td>\n",
              "      <td>0.135987</td>\n",
              "      <td>289.664904</td>\n",
              "      <td>353.898283</td>\n",
              "      <td>102.034951</td>\n",
              "      <td>27.673394</td>\n",
              "      <td>40.731303</td>\n",
              "      <td>0.130435</td>\n",
              "    </tr>\n",
              "    <tr>\n",
              "      <th>std</th>\n",
              "      <td>7.035279</td>\n",
              "      <td>9.017252</td>\n",
              "      <td>2673.425470</td>\n",
              "      <td>7960.762380</td>\n",
              "      <td>12.484591</td>\n",
              "      <td>15.023454</td>\n",
              "      <td>1.042281</td>\n",
              "      <td>33.738120</td>\n",
              "      <td>0.732355</td>\n",
              "      <td>0.598877</td>\n",
              "      <td>11.042182</td>\n",
              "      <td>2.797509</td>\n",
              "      <td>12.040949</td>\n",
              "      <td>12.275541</td>\n",
              "      <td>57914.463430</td>\n",
              "      <td>0.272532</td>\n",
              "      <td>1302.275528</td>\n",
              "      <td>0.194529</td>\n",
              "      <td>0.155909</td>\n",
              "      <td>0.648806</td>\n",
              "      <td>178.533732</td>\n",
              "      <td>0.153989</td>\n",
              "      <td>0.024546</td>\n",
              "      <td>0.030284</td>\n",
              "      <td>0.158443</td>\n",
              "      <td>520.792137</td>\n",
              "      <td>584.500018</td>\n",
              "      <td>131.415911</td>\n",
              "      <td>53.560611</td>\n",
              "      <td>156.780339</td>\n",
              "      <td>0.336796</td>\n",
              "    </tr>\n",
              "    <tr>\n",
              "      <th>min</th>\n",
              "      <td>0.000000</td>\n",
              "      <td>16.710000</td>\n",
              "      <td>0.000000</td>\n",
              "      <td>0.000000</td>\n",
              "      <td>0.000000</td>\n",
              "      <td>0.000000</td>\n",
              "      <td>0.000000</td>\n",
              "      <td>0.000000</td>\n",
              "      <td>0.000000</td>\n",
              "      <td>0.000000</td>\n",
              "      <td>0.000000</td>\n",
              "      <td>1.120000</td>\n",
              "      <td>0.000000</td>\n",
              "      <td>0.000000</td>\n",
              "      <td>1708.000000</td>\n",
              "      <td>0.000000</td>\n",
              "      <td>0.000000</td>\n",
              "      <td>0.000000</td>\n",
              "      <td>0.000000</td>\n",
              "      <td>0.000000</td>\n",
              "      <td>1.000000</td>\n",
              "      <td>0.000000</td>\n",
              "      <td>-0.010000</td>\n",
              "      <td>-0.010000</td>\n",
              "      <td>0.000000</td>\n",
              "      <td>-559.990000</td>\n",
              "      <td>-140.940000</td>\n",
              "      <td>-187.120000</td>\n",
              "      <td>-447.680000</td>\n",
              "      <td>-223.890000</td>\n",
              "      <td>0.000000</td>\n",
              "    </tr>\n",
              "    <tr>\n",
              "      <th>25%</th>\n",
              "      <td>8.210000</td>\n",
              "      <td>77.947500</td>\n",
              "      <td>5318.782500</td>\n",
              "      <td>8294.440000</td>\n",
              "      <td>27.477500</td>\n",
              "      <td>29.447500</td>\n",
              "      <td>0.890000</td>\n",
              "      <td>98.822500</td>\n",
              "      <td>1.200000</td>\n",
              "      <td>1.000000</td>\n",
              "      <td>76.247500</td>\n",
              "      <td>9.340000</td>\n",
              "      <td>14.090000</td>\n",
              "      <td>49.530000</td>\n",
              "      <td>63679.625000</td>\n",
              "      <td>0.140000</td>\n",
              "      <td>3375.000000</td>\n",
              "      <td>0.080000</td>\n",
              "      <td>0.000000</td>\n",
              "      <td>1.160000</td>\n",
              "      <td>19.000000</td>\n",
              "      <td>0.010000</td>\n",
              "      <td>0.000000</td>\n",
              "      <td>0.000000</td>\n",
              "      <td>0.060000</td>\n",
              "      <td>0.000000</td>\n",
              "      <td>0.000000</td>\n",
              "      <td>14.180000</td>\n",
              "      <td>0.000000</td>\n",
              "      <td>0.000000</td>\n",
              "      <td>0.000000</td>\n",
              "    </tr>\n",
              "    <tr>\n",
              "      <th>50%</th>\n",
              "      <td>12.550000</td>\n",
              "      <td>83.580000</td>\n",
              "      <td>7129.690000</td>\n",
              "      <td>11471.620000</td>\n",
              "      <td>33.360000</td>\n",
              "      <td>36.690000</td>\n",
              "      <td>1.500000</td>\n",
              "      <td>124.890000</td>\n",
              "      <td>1.632000</td>\n",
              "      <td>1.374000</td>\n",
              "      <td>82.775000</td>\n",
              "      <td>11.150000</td>\n",
              "      <td>19.670000</td>\n",
              "      <td>55.880000</td>\n",
              "      <td>88442.005000</td>\n",
              "      <td>0.270000</td>\n",
              "      <td>4016.275000</td>\n",
              "      <td>0.180000</td>\n",
              "      <td>0.100000</td>\n",
              "      <td>1.480000</td>\n",
              "      <td>39.000000</td>\n",
              "      <td>0.040000</td>\n",
              "      <td>0.000000</td>\n",
              "      <td>0.010000</td>\n",
              "      <td>0.090000</td>\n",
              "      <td>111.090000</td>\n",
              "      <td>104.725000</td>\n",
              "      <td>60.015000</td>\n",
              "      <td>10.040000</td>\n",
              "      <td>0.000000</td>\n",
              "      <td>0.000000</td>\n",
              "    </tr>\n",
              "    <tr>\n",
              "      <th>75%</th>\n",
              "      <td>17.000000</td>\n",
              "      <td>89.150000</td>\n",
              "      <td>8635.810000</td>\n",
              "      <td>15465.432500</td>\n",
              "      <td>40.640000</td>\n",
              "      <td>45.800000</td>\n",
              "      <td>2.130000</td>\n",
              "      <td>141.450000</td>\n",
              "      <td>2.000000</td>\n",
              "      <td>1.667000</td>\n",
              "      <td>88.560000</td>\n",
              "      <td>12.640000</td>\n",
              "      <td>26.272500</td>\n",
              "      <td>62.835000</td>\n",
              "      <td>125844.525000</td>\n",
              "      <td>0.380000</td>\n",
              "      <td>4650.000000</td>\n",
              "      <td>0.260000</td>\n",
              "      <td>0.150000</td>\n",
              "      <td>1.920000</td>\n",
              "      <td>69.000000</td>\n",
              "      <td>0.080000</td>\n",
              "      <td>0.010000</td>\n",
              "      <td>0.010000</td>\n",
              "      <td>0.140000</td>\n",
              "      <td>377.125000</td>\n",
              "      <td>482.075000</td>\n",
              "      <td>139.065000</td>\n",
              "      <td>34.030000</td>\n",
              "      <td>49.945000</td>\n",
              "      <td>0.000000</td>\n",
              "    </tr>\n",
              "    <tr>\n",
              "      <th>max</th>\n",
              "      <td>100.000000</td>\n",
              "      <td>100.000000</td>\n",
              "      <td>26862.500000</td>\n",
              "      <td>132787.500000</td>\n",
              "      <td>128.000000</td>\n",
              "      <td>128.000000</td>\n",
              "      <td>11.080000</td>\n",
              "      <td>319.670000</td>\n",
              "      <td>10.000000</td>\n",
              "      <td>6.000000</td>\n",
              "      <td>100.000000</td>\n",
              "      <td>32.150000</td>\n",
              "      <td>160.000000</td>\n",
              "      <td>125.640000</td>\n",
              "      <td>600283.270000</td>\n",
              "      <td>4.000000</td>\n",
              "      <td>17333.330000</td>\n",
              "      <td>2.800000</td>\n",
              "      <td>3.000000</td>\n",
              "      <td>6.270000</td>\n",
              "      <td>18288.000000</td>\n",
              "      <td>4.920000</td>\n",
              "      <td>0.680000</td>\n",
              "      <td>0.770000</td>\n",
              "      <td>2.340000</td>\n",
              "      <td>26625.900000</td>\n",
              "      <td>9094.610000</td>\n",
              "      <td>1682.140000</td>\n",
              "      <td>1312.530000</td>\n",
              "      <td>14423.670000</td>\n",
              "      <td>1.000000</td>\n",
              "    </tr>\n",
              "  </tbody>\n",
              "</table>\n",
              "</div>"
            ],
            "text/plain": [
              "                 A1            A2  ...           A30       default\n",
              "count  11500.000000  11500.000000  ...  11500.000000  11500.000000\n",
              "mean      12.912370     82.996250  ...     40.731303      0.130435\n",
              "std        7.035279      9.017252  ...    156.780339      0.336796\n",
              "min        0.000000     16.710000  ...   -223.890000      0.000000\n",
              "25%        8.210000     77.947500  ...      0.000000      0.000000\n",
              "50%       12.550000     83.580000  ...      0.000000      0.000000\n",
              "75%       17.000000     89.150000  ...     49.945000      0.000000\n",
              "max      100.000000    100.000000  ...  14423.670000      1.000000\n",
              "\n",
              "[8 rows x 31 columns]"
            ]
          },
          "metadata": {},
          "execution_count": 245
        }
      ]
    },
    {
      "cell_type": "code",
      "metadata": {
        "colab": {
          "base_uri": "https://localhost:8080/",
          "height": 297
        },
        "id": "NwCEFI3mUGhz",
        "outputId": "f0b19f19-82ef-43f3-ca02-9bdc3988860e"
      },
      "source": [
        "#plotting the count of 1 and 0s labels\n",
        "label_count = data_val['default']\n",
        "label_count.value_counts().plot.bar()\n",
        "label_0 = label_count[lambda x: x == 0].count()\n",
        "label_1 = label_count[lambda x : x ==1].count()\n",
        "print(f\"Total instances with 0 labels are {label_0}, which is {(label_0/(label_0+label_1))*100}% percetange from total data.\")\n",
        "print(f\"Total instances with 1 labels are {label_1}, which is {(label_1/(label_0+label_1))*100}% percetange from total data.\")"
      ],
      "execution_count": null,
      "outputs": [
        {
          "output_type": "stream",
          "name": "stdout",
          "text": [
            "Total instances with 0 labels are 10000, which is 86.95652173913044% percetange from total data.\n",
            "Total instances with 1 labels are 1500, which is 13.043478260869565% percetange from total data.\n"
          ]
        },
        {
          "output_type": "display_data",
          "data": {
            "image/png": "[encoded data removed]",
            "text/plain": [
              "<Figure size 432x288 with 1 Axes>"
            ]
          },
          "metadata": {
            "needs_background": "light"
          }
        }
      ]
    },
    {
      "cell_type": "code",
      "metadata": {
        "colab": {
          "base_uri": "https://localhost:8080/"
        },
        "id": "8P8iI_KEl84d",
        "outputId": "af9ff02c-58d0-4638-d7d1-97f19d02c23e"
      },
      "source": [
        "#getting the feature names from the column to plot the graph\n",
        "labels = data_train.columns.values[:-1]\n",
        "print(labels)\n"
      ],
      "execution_count": null,
      "outputs": [
        {
          "output_type": "stream",
          "name": "stdout",
          "text": [
            "['A1' 'A2' 'A3' 'A4' 'A5' 'A6' 'A7' 'A8' 'A9' 'A10' 'A11' 'A12' 'A13'\n",
            " 'A14' 'A15' 'A16' 'A17' 'A18' 'A19' 'A20' 'A21' 'A22' 'A23' 'A24' 'A25'\n",
            " 'A26' 'A27' 'A28' 'A29' 'A30']\n"
          ]
        }
      ]
    },
    {
      "cell_type": "code",
      "metadata": {
        "colab": {
          "base_uri": "https://localhost:8080/",
          "height": 1000
        },
        "id": "kbBMDJetqKJN",
        "outputId": "bb62ccd6-e5c6-45b1-f46f-41bf12a8f081"
      },
      "source": [
        "#plotting the features to understand the trend in training dataset for each features\n",
        "\n",
        "fig, axe = plt.subplots(nrows=10, ncols=3, figsize=(16,25))\n",
        "axe = axe.flatten()\n",
        "for i, ax in enumerate(axe):\n",
        "    x = np.array(data_train[labels[i]])\n",
        "    ax.hist(x,bins=40)\n",
        "    ax.set_title(labels[i])\n",
        "    fig.tight_layout()"
      ],
      "execution_count": null,
      "outputs": [
        {
          "output_type": "display_data",
          "data": {
            "image/png": "[encoded data removed]",
            "text/plain": [
              "<Figure size 1152x1800 with 30 Axes>"
            ]
          },
          "metadata": {
            "needs_background": "light"
          }
        }
      ]
    },
    {
      "cell_type": "markdown",
      "metadata": {
        "id": "9T4w4UCASLeU"
      },
      "source": [
        "##Observations\n",
        "\n",
        "- Here, as we can see the dataset is highly imbalanced. So to make a good model and make predictions we will have to try different sampling techniques.\n",
        "\n",
        "- Another thing that we saw in the **description** and the **distribution** graphs of the data was that all features are from different distibuition and had different ranges. \n",
        "\n",
        "- When we are using logistic regression algorithm, we first need to scale the data for faster convergence, but again if scale the data as we are observing some outliers here, the scaling would be useless. The outliers are present in both training and testing data.\n",
        "\n",
        "\n",
        "- Also, in the description as we can see the 25% and 75% marks(Q1 and Q3) are low but the maximum values are significantly larger(outliers in the features) for some features. We might want to address that. \n",
        "\n",
        "##What can we do then?\n",
        "\n",
        "- Firstly, we can use different feature selection methods, like corealtion betweeen features and then p-value test to select features.\n",
        "\n",
        "- Now, to address the outliers in each feature, we can use the interquartile transformations. But again from the graphs as we can see not all features have normal distribution. Some of them are skewed. \n",
        "\n",
        "- Skew data is not good if we want to preserve the information while using the interquartile clipping.\n",
        "\n",
        "- So the steps we could take are,\n",
        "\n",
        "  1. First, transfrom the skewed features to a normal distribuition using log transformations. \n",
        "  2. Then, use interquartile ranges to remove the outliers.\n",
        "\n",
        "\n",
        "## Removing outliers? Data loss??\n",
        "\n",
        "- To deal with this problem, we can also replace outliers with some data imputation methods. Like mean or median imputation. Or we could also use knn to predict the most nearest value to be imputed. \n",
        "(For such classification task would it be an overkill?? Depends, right?)\n",
        "\n",
        "\n",
        "But here again first we want to just keep the things simple so we will worry about the data loss aftwerwards. For now, we will just focus on the outliers instead of the distribuition of each feature.\n",
        "\n",
        "\n",
        "\n"
      ]
    },
    {
      "cell_type": "code",
      "metadata": {
        "id": "5KxqThMs5Yoh"
      },
      "source": [
        "#Creating a copy\n",
        "data_train_copy = data_train.copy()\n",
        "df_create = data_val.copy()"
      ],
      "execution_count": null,
      "outputs": []
    },
    {
      "cell_type": "code",
      "metadata": {
        "id": "mdiqvRfMKat3"
      },
      "source": [
        "#taking lables \n",
        "\n",
        "data_clip = data_train.copy()\n",
        "data_clip_labels = data_clip['default'].values\n",
        "data_clip = data_clip.drop(['default'], axis = 1)"
      ],
      "execution_count": null,
      "outputs": []
    },
    {
      "cell_type": "code",
      "metadata": {
        "id": "xkCLzxp59Rf-"
      },
      "source": [
        "#we also have to clip the testing data as well, to make sure that they both are from similar distribuition\n",
        "\n",
        "data_val_clip = data_val.copy()\n",
        "valclip_labels = data_val['default'].values\n",
        "data_val_clip = data_val_clip.drop(['default'], axis = 1)"
      ],
      "execution_count": null,
      "outputs": []
    },
    {
      "cell_type": "markdown",
      "metadata": {
        "id": "sxvPxxSLjt6s"
      },
      "source": [
        "#Workflow - Modelling\n",
        "\n",
        "- Now, for modelling we will first need a baseline model to comapre our results with.\n",
        "\n",
        "###Baseline model:\n",
        " - We will use the original dataset and directly use Standard Scaler to scale the data, balance the dataset and then use logistic regression on that.\n",
        "\n",
        "###Our improved models:\n",
        "- First we will use the dataset where we have kept the outliers, removed the highly correlated features manually, selected the features based on p-values and then applied the algorithm on the dataset based on different sampling techniques.\n",
        "\n",
        "- Second would be to remove the outliers and again try the algorithms\n",
        "\n",
        "##Algorithms:\n",
        "\n",
        "1. Logistic regression.\n",
        "2. SVC\n"
      ]
    },
    {
      "cell_type": "markdown",
      "metadata": {
        "id": "ELPTQGB5J1Ra"
      },
      "source": [
        "Trying the basline model"
      ]
    },
    {
      "cell_type": "code",
      "metadata": {
        "id": "Fv5npkW7YGpU"
      },
      "source": [
        "#scaling the features for the training\n",
        "scale_baseline = StandardScaler()\n",
        "train_scale = scale_baseline.fit_transform(data_clip)\n",
        "\n",
        "val_baseline = scale_baseline.transform(data_val_clip)"
      ],
      "execution_count": null,
      "outputs": []
    },
    {
      "cell_type": "code",
      "metadata": {
        "colab": {
          "base_uri": "https://localhost:8080/"
        },
        "id": "rzqYlpqJXxm0",
        "outputId": "2b2555e2-e5da-4bc5-f981-52aec4624016"
      },
      "source": [
        "#\n",
        "baseline = LogisticRegression(max_iter=100)\n",
        "baseline.fit(train_scale, data_clip_labels)\n",
        "\n",
        "yhat = baseline.predict(val_baseline)\n",
        "\n",
        "print(\"Training Accuracy\",baseline.score(train_scale, data_clip_labels))\n",
        "print(\"Testing Accuracy\", baseline.score(val_baseline, valclip_labels))\n",
        "\n",
        "conf_  = confusion_matrix(y_true=valclip_labels, y_pred=yhat)\n",
        "\n",
        "print(\"Confusion Matrix : \")\n",
        "print(\"===\"*8)\n",
        "print(conf_)\n",
        "print(\"===\"*8)\n",
        "print(\"F1score is : \", f1_score(valclip_labels, yhat))\n"
      ],
      "execution_count": null,
      "outputs": [
        {
          "output_type": "stream",
          "name": "stdout",
          "text": [
            "Training Accuracy 0.9570425531914893\n",
            "Testing Accuracy 0.872\n",
            "Confusion Matrix : \n",
            "========================\n",
            "[[9988   12]\n",
            " [1460   40]]\n",
            "========================\n",
            "F1score is :  0.05154639175257733\n"
          ]
        }
      ]
    },
    {
      "cell_type": "markdown",
      "metadata": {
        "id": "bAcJxEWcZlmq"
      },
      "source": [
        "- As we can see in the baseline model, if we run without any feature engineering and just use the logistic regression directly, accuracy is really high.\n",
        "\n",
        "- But it is misleading, since from the confusion matrix we can see that our model is only classifying majority class and naturally it is leading to high accuracy but F1 score is almost none. = 5% which is really bad. \n",
        "\n",
        "- Thus, our basline model does not work. and now we will try to improve the results using new feature engineering techniques."
      ]
    },
    {
      "cell_type": "code",
      "metadata": {
        "id": "jwC14p-o9jvK"
      },
      "source": [
        "#Finding out the highly correlated features and removing them\n",
        "\n",
        "#looking at the correlation of the features\n",
        "corr = data_clip.corr()"
      ],
      "execution_count": null,
      "outputs": []
    },
    {
      "cell_type": "code",
      "metadata": {
        "colab": {
          "base_uri": "https://localhost:8080/",
          "height": 296
        },
        "id": "NszfszWJKvkp",
        "outputId": "0b39e61d-8e3e-4c13-f959-f0285b5df2c3"
      },
      "source": [
        "#plotting the highly correlated features\n",
        "import seaborn as sns\n",
        "\n",
        "sns.heatmap(corr)"
      ],
      "execution_count": null,
      "outputs": [
        {
          "output_type": "execute_result",
          "data": {
            "text/plain": [
              "<matplotlib.axes._subplots.AxesSubplot at 0x7f642a193910>"
            ]
          },
          "metadata": {},
          "execution_count": 255
        },
        {
          "output_type": "display_data",
          "data": {
            "image/png": "[encoded data removed]",
            "text/plain": [
              "<Figure size 432x288 with 2 Axes>"
            ]
          },
          "metadata": {
            "needs_background": "light"
          }
        }
      ]
    },
    {
      "cell_type": "code",
      "metadata": {
        "id": "NtXAYCWK-725"
      },
      "source": [
        "#function to figure out the columns and rmoving them\n",
        "columns = np.full((corr.shape[0],), True, dtype=bool)\n",
        "for i in range(corr.shape[0]):\n",
        "    for j in range(i+1, corr.shape[0]):\n",
        "        if corr.iloc[i,j] >= 0.9:\n",
        "            if columns[j]:\n",
        "                columns[j] = False\n",
        "selected_columns = data_clip.columns[columns]\n",
        "data_selected = data_clip[selected_columns]"
      ],
      "execution_count": null,
      "outputs": []
    },
    {
      "cell_type": "code",
      "metadata": {
        "colab": {
          "base_uri": "https://localhost:8080/",
          "height": 444
        },
        "id": "A9wwY2_m_FN-",
        "outputId": "98276186-9b23-4b20-9de2-536d089c0421"
      },
      "source": [
        "#looking at the columns after the highly correlated columns are dropped\n",
        "data_selected"
      ],
      "execution_count": null,
      "outputs": [
        {
          "output_type": "execute_result",
          "data": {
            "text/html": [
              "<div>\n",
              "<style scoped>\n",
              "    .dataframe tbody tr th:only-of-type {\n",
              "        vertical-align: middle;\n",
              "    }\n",
              "\n",
              "    .dataframe tbody tr th {\n",
              "        vertical-align: top;\n",
              "    }\n",
              "\n",
              "    .dataframe thead th {\n",
              "        text-align: right;\n",
              "    }\n",
              "</style>\n",
              "<table border=\"1\" class=\"dataframe\">\n",
              "  <thead>\n",
              "    <tr style=\"text-align: right;\">\n",
              "      <th></th>\n",
              "      <th>A1</th>\n",
              "      <th>A2</th>\n",
              "      <th>A3</th>\n",
              "      <th>A4</th>\n",
              "      <th>A5</th>\n",
              "      <th>A7</th>\n",
              "      <th>A8</th>\n",
              "      <th>A9</th>\n",
              "      <th>A11</th>\n",
              "      <th>A12</th>\n",
              "      <th>A13</th>\n",
              "      <th>A14</th>\n",
              "      <th>A15</th>\n",
              "      <th>A16</th>\n",
              "      <th>A17</th>\n",
              "      <th>A18</th>\n",
              "      <th>A19</th>\n",
              "      <th>A20</th>\n",
              "      <th>A21</th>\n",
              "      <th>A22</th>\n",
              "      <th>A23</th>\n",
              "      <th>A24</th>\n",
              "      <th>A25</th>\n",
              "      <th>A26</th>\n",
              "      <th>A27</th>\n",
              "      <th>A28</th>\n",
              "      <th>A29</th>\n",
              "      <th>A30</th>\n",
              "    </tr>\n",
              "  </thead>\n",
              "  <tbody>\n",
              "    <tr>\n",
              "      <th>0</th>\n",
              "      <td>10.69</td>\n",
              "      <td>86.10</td>\n",
              "      <td>8920.16</td>\n",
              "      <td>19912.85</td>\n",
              "      <td>30.42</td>\n",
              "      <td>1.18</td>\n",
              "      <td>145.41</td>\n",
              "      <td>2.236</td>\n",
              "      <td>84.29</td>\n",
              "      <td>13.46</td>\n",
              "      <td>16.01</td>\n",
              "      <td>52.18</td>\n",
              "      <td>123101.84</td>\n",
              "      <td>0.23</td>\n",
              "      <td>4305.85</td>\n",
              "      <td>0.15</td>\n",
              "      <td>0.09</td>\n",
              "      <td>1.09</td>\n",
              "      <td>10</td>\n",
              "      <td>0.01</td>\n",
              "      <td>0.01</td>\n",
              "      <td>0.01</td>\n",
              "      <td>0.13</td>\n",
              "      <td>0.00</td>\n",
              "      <td>0.00</td>\n",
              "      <td>0.00</td>\n",
              "      <td>0.00</td>\n",
              "      <td>0.00</td>\n",
              "    </tr>\n",
              "    <tr>\n",
              "      <th>1</th>\n",
              "      <td>28.50</td>\n",
              "      <td>65.19</td>\n",
              "      <td>6564.00</td>\n",
              "      <td>6716.67</td>\n",
              "      <td>32.50</td>\n",
              "      <td>2.74</td>\n",
              "      <td>91.11</td>\n",
              "      <td>1.000</td>\n",
              "      <td>59.80</td>\n",
              "      <td>8.18</td>\n",
              "      <td>29.33</td>\n",
              "      <td>63.55</td>\n",
              "      <td>34275.73</td>\n",
              "      <td>0.80</td>\n",
              "      <td>3616.67</td>\n",
              "      <td>0.78</td>\n",
              "      <td>0.14</td>\n",
              "      <td>1.67</td>\n",
              "      <td>35</td>\n",
              "      <td>0.06</td>\n",
              "      <td>0.01</td>\n",
              "      <td>0.00</td>\n",
              "      <td>0.09</td>\n",
              "      <td>285.80</td>\n",
              "      <td>0.00</td>\n",
              "      <td>16.44</td>\n",
              "      <td>1.98</td>\n",
              "      <td>42.26</td>\n",
              "    </tr>\n",
              "    <tr>\n",
              "      <th>2</th>\n",
              "      <td>24.87</td>\n",
              "      <td>73.79</td>\n",
              "      <td>4285.47</td>\n",
              "      <td>6463.75</td>\n",
              "      <td>40.50</td>\n",
              "      <td>2.84</td>\n",
              "      <td>93.90</td>\n",
              "      <td>2.400</td>\n",
              "      <td>77.17</td>\n",
              "      <td>10.25</td>\n",
              "      <td>39.92</td>\n",
              "      <td>61.95</td>\n",
              "      <td>84841.79</td>\n",
              "      <td>0.78</td>\n",
              "      <td>2301.54</td>\n",
              "      <td>0.62</td>\n",
              "      <td>0.15</td>\n",
              "      <td>2.80</td>\n",
              "      <td>31</td>\n",
              "      <td>0.08</td>\n",
              "      <td>0.02</td>\n",
              "      <td>0.02</td>\n",
              "      <td>0.44</td>\n",
              "      <td>494.62</td>\n",
              "      <td>135.41</td>\n",
              "      <td>127.45</td>\n",
              "      <td>46.00</td>\n",
              "      <td>14.92</td>\n",
              "    </tr>\n",
              "    <tr>\n",
              "      <th>3</th>\n",
              "      <td>13.64</td>\n",
              "      <td>85.82</td>\n",
              "      <td>6887.56</td>\n",
              "      <td>9244.44</td>\n",
              "      <td>49.56</td>\n",
              "      <td>0.36</td>\n",
              "      <td>171.45</td>\n",
              "      <td>1.875</td>\n",
              "      <td>95.88</td>\n",
              "      <td>15.38</td>\n",
              "      <td>49.80</td>\n",
              "      <td>67.22</td>\n",
              "      <td>145261.11</td>\n",
              "      <td>0.09</td>\n",
              "      <td>3419.60</td>\n",
              "      <td>0.09</td>\n",
              "      <td>0.00</td>\n",
              "      <td>1.00</td>\n",
              "      <td>29</td>\n",
              "      <td>0.03</td>\n",
              "      <td>0.01</td>\n",
              "      <td>0.00</td>\n",
              "      <td>0.05</td>\n",
              "      <td>1015.19</td>\n",
              "      <td>0.00</td>\n",
              "      <td>210.63</td>\n",
              "      <td>92.58</td>\n",
              "      <td>0.00</td>\n",
              "    </tr>\n",
              "    <tr>\n",
              "      <th>4</th>\n",
              "      <td>4.50</td>\n",
              "      <td>95.92</td>\n",
              "      <td>8746.50</td>\n",
              "      <td>19987.50</td>\n",
              "      <td>32.75</td>\n",
              "      <td>0.92</td>\n",
              "      <td>153.25</td>\n",
              "      <td>2.000</td>\n",
              "      <td>94.55</td>\n",
              "      <td>11.87</td>\n",
              "      <td>17.43</td>\n",
              "      <td>50.70</td>\n",
              "      <td>120522.80</td>\n",
              "      <td>0.17</td>\n",
              "      <td>3828.57</td>\n",
              "      <td>0.08</td>\n",
              "      <td>0.00</td>\n",
              "      <td>2.69</td>\n",
              "      <td>22</td>\n",
              "      <td>0.01</td>\n",
              "      <td>0.00</td>\n",
              "      <td>0.00</td>\n",
              "      <td>0.04</td>\n",
              "      <td>0.00</td>\n",
              "      <td>106.41</td>\n",
              "      <td>79.00</td>\n",
              "      <td>0.00</td>\n",
              "      <td>0.00</td>\n",
              "    </tr>\n",
              "    <tr>\n",
              "      <th>...</th>\n",
              "      <td>...</td>\n",
              "      <td>...</td>\n",
              "      <td>...</td>\n",
              "      <td>...</td>\n",
              "      <td>...</td>\n",
              "      <td>...</td>\n",
              "      <td>...</td>\n",
              "      <td>...</td>\n",
              "      <td>...</td>\n",
              "      <td>...</td>\n",
              "      <td>...</td>\n",
              "      <td>...</td>\n",
              "      <td>...</td>\n",
              "      <td>...</td>\n",
              "      <td>...</td>\n",
              "      <td>...</td>\n",
              "      <td>...</td>\n",
              "      <td>...</td>\n",
              "      <td>...</td>\n",
              "      <td>...</td>\n",
              "      <td>...</td>\n",
              "      <td>...</td>\n",
              "      <td>...</td>\n",
              "      <td>...</td>\n",
              "      <td>...</td>\n",
              "      <td>...</td>\n",
              "      <td>...</td>\n",
              "      <td>...</td>\n",
              "    </tr>\n",
              "    <tr>\n",
              "      <th>93995</th>\n",
              "      <td>8.18</td>\n",
              "      <td>92.55</td>\n",
              "      <td>4305.29</td>\n",
              "      <td>5420.00</td>\n",
              "      <td>30.60</td>\n",
              "      <td>0.73</td>\n",
              "      <td>76.67</td>\n",
              "      <td>0.000</td>\n",
              "      <td>100.00</td>\n",
              "      <td>6.82</td>\n",
              "      <td>35.50</td>\n",
              "      <td>30.60</td>\n",
              "      <td>16063.00</td>\n",
              "      <td>0.36</td>\n",
              "      <td>3050.00</td>\n",
              "      <td>0.22</td>\n",
              "      <td>0.11</td>\n",
              "      <td>2.25</td>\n",
              "      <td>28</td>\n",
              "      <td>0.20</td>\n",
              "      <td>0.04</td>\n",
              "      <td>0.04</td>\n",
              "      <td>0.04</td>\n",
              "      <td>0.00</td>\n",
              "      <td>0.00</td>\n",
              "      <td>0.00</td>\n",
              "      <td>0.00</td>\n",
              "      <td>0.00</td>\n",
              "    </tr>\n",
              "    <tr>\n",
              "      <th>93996</th>\n",
              "      <td>13.22</td>\n",
              "      <td>84.14</td>\n",
              "      <td>7614.67</td>\n",
              "      <td>14460.69</td>\n",
              "      <td>32.74</td>\n",
              "      <td>1.85</td>\n",
              "      <td>117.22</td>\n",
              "      <td>2.287</td>\n",
              "      <td>83.49</td>\n",
              "      <td>10.78</td>\n",
              "      <td>18.81</td>\n",
              "      <td>55.80</td>\n",
              "      <td>106855.62</td>\n",
              "      <td>0.27</td>\n",
              "      <td>4041.31</td>\n",
              "      <td>0.18</td>\n",
              "      <td>0.10</td>\n",
              "      <td>1.88</td>\n",
              "      <td>22</td>\n",
              "      <td>0.07</td>\n",
              "      <td>0.01</td>\n",
              "      <td>0.01</td>\n",
              "      <td>0.28</td>\n",
              "      <td>221.97</td>\n",
              "      <td>0.00</td>\n",
              "      <td>9.93</td>\n",
              "      <td>15.87</td>\n",
              "      <td>63.74</td>\n",
              "    </tr>\n",
              "    <tr>\n",
              "      <th>93997</th>\n",
              "      <td>14.91</td>\n",
              "      <td>85.36</td>\n",
              "      <td>4628.71</td>\n",
              "      <td>6070.00</td>\n",
              "      <td>31.30</td>\n",
              "      <td>2.09</td>\n",
              "      <td>135.70</td>\n",
              "      <td>3.000</td>\n",
              "      <td>90.78</td>\n",
              "      <td>11.84</td>\n",
              "      <td>10.00</td>\n",
              "      <td>47.82</td>\n",
              "      <td>23114.64</td>\n",
              "      <td>0.73</td>\n",
              "      <td>3078.57</td>\n",
              "      <td>0.40</td>\n",
              "      <td>0.44</td>\n",
              "      <td>1.82</td>\n",
              "      <td>97</td>\n",
              "      <td>0.44</td>\n",
              "      <td>0.06</td>\n",
              "      <td>0.04</td>\n",
              "      <td>0.23</td>\n",
              "      <td>468.81</td>\n",
              "      <td>265.85</td>\n",
              "      <td>44.89</td>\n",
              "      <td>12.76</td>\n",
              "      <td>52.39</td>\n",
              "    </tr>\n",
              "    <tr>\n",
              "      <th>93998</th>\n",
              "      <td>10.77</td>\n",
              "      <td>85.94</td>\n",
              "      <td>8540.43</td>\n",
              "      <td>19452.79</td>\n",
              "      <td>29.92</td>\n",
              "      <td>1.24</td>\n",
              "      <td>147.39</td>\n",
              "      <td>2.013</td>\n",
              "      <td>84.18</td>\n",
              "      <td>12.98</td>\n",
              "      <td>14.86</td>\n",
              "      <td>49.22</td>\n",
              "      <td>102753.17</td>\n",
              "      <td>0.27</td>\n",
              "      <td>4769.85</td>\n",
              "      <td>0.20</td>\n",
              "      <td>0.09</td>\n",
              "      <td>1.29</td>\n",
              "      <td>151</td>\n",
              "      <td>0.13</td>\n",
              "      <td>0.01</td>\n",
              "      <td>0.02</td>\n",
              "      <td>0.10</td>\n",
              "      <td>83.90</td>\n",
              "      <td>1034.35</td>\n",
              "      <td>281.25</td>\n",
              "      <td>53.10</td>\n",
              "      <td>0.00</td>\n",
              "    </tr>\n",
              "    <tr>\n",
              "      <th>93999</th>\n",
              "      <td>23.47</td>\n",
              "      <td>78.27</td>\n",
              "      <td>3672.42</td>\n",
              "      <td>5800.87</td>\n",
              "      <td>42.67</td>\n",
              "      <td>2.42</td>\n",
              "      <td>78.69</td>\n",
              "      <td>0.833</td>\n",
              "      <td>80.27</td>\n",
              "      <td>8.73</td>\n",
              "      <td>20.62</td>\n",
              "      <td>61.42</td>\n",
              "      <td>43576.95</td>\n",
              "      <td>0.37</td>\n",
              "      <td>3166.15</td>\n",
              "      <td>0.38</td>\n",
              "      <td>0.06</td>\n",
              "      <td>1.92</td>\n",
              "      <td>40</td>\n",
              "      <td>0.09</td>\n",
              "      <td>0.02</td>\n",
              "      <td>0.02</td>\n",
              "      <td>0.39</td>\n",
              "      <td>126.60</td>\n",
              "      <td>70.28</td>\n",
              "      <td>5.41</td>\n",
              "      <td>8.80</td>\n",
              "      <td>50.24</td>\n",
              "    </tr>\n",
              "  </tbody>\n",
              "</table>\n",
              "<p>94000 rows × 28 columns</p>\n",
              "</div>"
            ],
            "text/plain": [
              "          A1     A2       A3        A4  ...      A27     A28    A29    A30\n",
              "0      10.69  86.10  8920.16  19912.85  ...     0.00    0.00   0.00   0.00\n",
              "1      28.50  65.19  6564.00   6716.67  ...     0.00   16.44   1.98  42.26\n",
              "2      24.87  73.79  4285.47   6463.75  ...   135.41  127.45  46.00  14.92\n",
              "3      13.64  85.82  6887.56   9244.44  ...     0.00  210.63  92.58   0.00\n",
              "4       4.50  95.92  8746.50  19987.50  ...   106.41   79.00   0.00   0.00\n",
              "...      ...    ...      ...       ...  ...      ...     ...    ...    ...\n",
              "93995   8.18  92.55  4305.29   5420.00  ...     0.00    0.00   0.00   0.00\n",
              "93996  13.22  84.14  7614.67  14460.69  ...     0.00    9.93  15.87  63.74\n",
              "93997  14.91  85.36  4628.71   6070.00  ...   265.85   44.89  12.76  52.39\n",
              "93998  10.77  85.94  8540.43  19452.79  ...  1034.35  281.25  53.10   0.00\n",
              "93999  23.47  78.27  3672.42   5800.87  ...    70.28    5.41   8.80  50.24\n",
              "\n",
              "[94000 rows x 28 columns]"
            ]
          },
          "metadata": {},
          "execution_count": 257
        }
      ]
    },
    {
      "cell_type": "code",
      "metadata": {
        "id": "f9yCUzoGAU45"
      },
      "source": [
        "import statsmodels.api as sm"
      ],
      "execution_count": null,
      "outputs": []
    },
    {
      "cell_type": "code",
      "metadata": {
        "id": "7y3aM67ZAdNq"
      },
      "source": [
        "#creating the new list with new column names \n",
        "labels_select = data_selected.columns.values"
      ],
      "execution_count": null,
      "outputs": []
    },
    {
      "cell_type": "code",
      "metadata": {
        "colab": {
          "base_uri": "https://localhost:8080/"
        },
        "id": "UH8L-YvyAdFe",
        "outputId": "a0d49186-c2c6-4b55-ecda-482fd6e700c0"
      },
      "source": [
        "#converting it to a list for removing an element\n",
        "print(labels_select)\n",
        "labels_select = list(labels_select)"
      ],
      "execution_count": null,
      "outputs": [
        {
          "output_type": "stream",
          "name": "stdout",
          "text": [
            "['A1' 'A2' 'A3' 'A4' 'A5' 'A7' 'A8' 'A9' 'A11' 'A12' 'A13' 'A14' 'A15'\n",
            " 'A16' 'A17' 'A18' 'A19' 'A20' 'A21' 'A22' 'A23' 'A24' 'A25' 'A26' 'A27'\n",
            " 'A28' 'A29' 'A30']\n"
          ]
        }
      ]
    },
    {
      "cell_type": "code",
      "metadata": {
        "id": "ZZHmUk7jAG-a"
      },
      "source": [
        "#function to find the features with high p-vals\n",
        "\n",
        "def show_stats():\n",
        "  x = data_selected[labels_select]\n",
        "  results = sm.OLS(data_clip_labels, x).fit()\n",
        "  print(results.summary())\n"
      ],
      "execution_count": null,
      "outputs": []
    },
    {
      "cell_type": "code",
      "metadata": {
        "id": "-eAaYXov2-MB",
        "colab": {
          "base_uri": "https://localhost:8080/"
        },
        "outputId": "1e33aacd-22eb-4220-c914-d394c3c801d7"
      },
      "source": [
        "from sklearn import datasets\n",
        "import statsmodels.api as sm\n",
        "from scipy import stats\n",
        "\n",
        "# Load data\n",
        "data = datasets.load_iris()\n",
        "X = data.data\n",
        "X = sm.add_constant(X)\n",
        "y = data.target\n",
        "\n",
        "# Fit the logistic regression\n",
        "est = sm.OLS(y, X)\n",
        "res = est.fit()\n",
        "\n",
        "n_datapoints = X.shape[0]\n",
        "dim = X.shape[1]\n",
        "df = n_datapoints - dim\n",
        "\n",
        "for t, p in zip(res.tvalues, res.pvalues):\n",
        "    # Print t- and p-values returned by statsmodels\n",
        "    print(\"Fit t-value=%.2g\" % t)\n",
        "    print(\"Fit p-value=%.10g\" % p)\n",
        "\n",
        "    # Compute p-value from the returned t-values\n",
        "    p_manual = stats.t.sf(abs(t), df=res.df_resid)*2\n",
        "    print(\"t-test Calculated p-value=%.10g\" % p_manual)\n",
        "\n",
        "    print()"
      ],
      "execution_count": null,
      "outputs": [
        {
          "output_type": "stream",
          "name": "stderr",
          "text": [
            "/usr/local/lib/python3.7/dist-packages/statsmodels/tools/_testing.py:19: FutureWarning: pandas.util.testing is deprecated. Use the functions in the public API at pandas.testing instead.\n",
            "  import pandas.util.testing as tm\n"
          ]
        },
        {
          "output_type": "stream",
          "name": "stdout",
          "text": [
            "Fit t-value=0.91\n",
            "Fit p-value=0.3641020792\n",
            "t-test Calculated p-value=0.3641020792\n",
            "\n",
            "Fit t-value=-1.9\n",
            "Fit p-value=0.05416918171\n",
            "t-test Calculated p-value=0.05416918171\n",
            "\n",
            "Fit t-value=-0.67\n",
            "Fit p-value=0.5029869494\n",
            "t-test Calculated p-value=0.5029869494\n",
            "\n",
            "Fit t-value=4\n",
            "Fit p-value=9.25521505e-05\n",
            "t-test Calculated p-value=9.25521505e-05\n",
            "\n",
            "Fit t-value=6.5\n",
            "Fit p-value=1.564180424e-09\n",
            "t-test Calculated p-value=1.564180424e-09\n",
            "\n"
          ]
        }
      ]
    },
    {
      "cell_type": "code",
      "metadata": {
        "colab": {
          "base_uri": "https://localhost:8080/"
        },
        "id": "dOvVNrIwAurB",
        "outputId": "1cd5a717-1d3d-41cc-9e5b-59290b7f941f"
      },
      "source": [
        "show_stats()"
      ],
      "execution_count": null,
      "outputs": [
        {
          "output_type": "stream",
          "name": "stdout",
          "text": [
            "                                 OLS Regression Results                                \n",
            "=======================================================================================\n",
            "Dep. Variable:                      y   R-squared (uncentered):                   0.105\n",
            "Model:                            OLS   Adj. R-squared (uncentered):              0.105\n",
            "Method:                 Least Squares   F-statistic:                              393.6\n",
            "Date:                Tue, 05 Oct 2021   Prob (F-statistic):                        0.00\n",
            "Time:                        16:38:17   Log-Likelihood:                          20211.\n",
            "No. Observations:               94000   AIC:                                 -4.037e+04\n",
            "Df Residuals:                   93972   BIC:                                 -4.010e+04\n",
            "Df Model:                          28                                                  \n",
            "Covariance Type:            nonrobust                                                  \n",
            "==============================================================================\n",
            "                 coef    std err          t      P>|t|      [0.025      0.975]\n",
            "------------------------------------------------------------------------------\n",
            "A1             0.0040      0.000     29.306      0.000       0.004       0.004\n",
            "A2            -0.0002      0.000     -2.050      0.040      -0.000   -1.03e-05\n",
            "A3         -5.442e-07   4.13e-07     -1.316      0.188   -1.35e-06    2.66e-07\n",
            "A4          5.398e-07   1.18e-07      4.570      0.000    3.08e-07    7.71e-07\n",
            "A5             0.0009   9.84e-05      9.073      0.000       0.001       0.001\n",
            "A7             0.0053      0.001      6.282      0.000       0.004       0.007\n",
            "A8            -0.0005   3.89e-05    -11.756      0.000      -0.001      -0.000\n",
            "A9            -0.0053      0.001     -4.908      0.000      -0.007      -0.003\n",
            "A11           -0.0002   9.57e-05     -1.667      0.095      -0.000     2.8e-05\n",
            "A12            0.0039      0.000      8.834      0.000       0.003       0.005\n",
            "A13            0.0003   7.86e-05      3.733      0.000       0.000       0.000\n",
            "A14         7.498e-05   8.71e-05      0.860      0.390   -9.58e-05       0.000\n",
            "A15        -7.917e-08   1.85e-08     -4.288      0.000   -1.15e-07    -4.3e-08\n",
            "A16           -0.0059      0.013     -0.462      0.644      -0.031       0.019\n",
            "A17        -1.789e-06   5.45e-07     -3.283      0.001   -2.86e-06   -7.21e-07\n",
            "A18            0.0138      0.012      1.119      0.263      -0.010       0.038\n",
            "A19            0.0272      0.012      2.292      0.022       0.004       0.050\n",
            "A20            0.0055      0.001      4.137      0.000       0.003       0.008\n",
            "A21          5.51e-05   1.42e-05      3.891      0.000    2.73e-05    8.29e-05\n",
            "A22            0.0192      0.010      1.940      0.052      -0.000       0.039\n",
            "A23           -0.0291      0.053     -0.545      0.586      -0.134       0.076\n",
            "A24            0.1644      0.048      3.438      0.001       0.071       0.258\n",
            "A25           -0.0234      0.006     -4.054      0.000      -0.035      -0.012\n",
            "A26        -6.364e-06   2.19e-06     -2.910      0.004   -1.06e-05   -2.08e-06\n",
            "A27        -6.004e-06   1.64e-06     -3.671      0.000   -9.21e-06    -2.8e-06\n",
            "A28        -7.782e-06   6.46e-06     -1.205      0.228   -2.04e-05    4.88e-06\n",
            "A29        -4.073e-07   1.15e-05     -0.035      0.972    -2.3e-05    2.21e-05\n",
            "A30         3.945e-06   8.21e-06      0.481      0.631   -1.21e-05       2e-05\n",
            "==============================================================================\n",
            "Omnibus:                    77003.441   Durbin-Watson:                   0.131\n",
            "Prob(Omnibus):                  0.000   Jarque-Bera (JB):          1306705.240\n",
            "Skew:                           4.103   Prob(JB):                         0.00\n",
            "Kurtosis:                      19.319   Cond. No.                     1.11e+07\n",
            "==============================================================================\n",
            "\n",
            "Warnings:\n",
            "[1] Standard Errors assume that the covariance matrix of the errors is correctly specified.\n",
            "[2] The condition number is large, 1.11e+07. This might indicate that there are\n",
            "strong multicollinearity or other numerical problems.\n"
          ]
        }
      ]
    },
    {
      "cell_type": "code",
      "metadata": {
        "id": "DzuUxkZ5Ay27"
      },
      "source": [
        "#remove the features that are having p > 0.05\n",
        "#i have recursively removed and checked the p-vals to decide the columns to be removed\n",
        "labels_select.remove('A23')\n",
        "labels_select.remove('A29')\n",
        "labels_select.remove('A30')\n",
        "labels_select.remove('A16')\n",
        "labels_select.remove('A14')\n",
        "labels_select.remove('A28')\n",
        "labels_select.remove('A3')\n",
        "labels_select.remove('A11')\n",
        "labels_select.remove('A22')\n"
      ],
      "execution_count": null,
      "outputs": []
    },
    {
      "cell_type": "code",
      "metadata": {
        "colab": {
          "base_uri": "https://localhost:8080/"
        },
        "id": "lTdzCBbgBQ-d",
        "outputId": "d894936e-bf22-4a01-cec8-c6a10a9fc2fb"
      },
      "source": [
        "show_stats()"
      ],
      "execution_count": null,
      "outputs": [
        {
          "output_type": "stream",
          "name": "stdout",
          "text": [
            "                                 OLS Regression Results                                \n",
            "=======================================================================================\n",
            "Dep. Variable:                      y   R-squared (uncentered):                   0.105\n",
            "Model:                            OLS   Adj. R-squared (uncentered):              0.105\n",
            "Method:                 Least Squares   F-statistic:                              579.4\n",
            "Date:                Tue, 05 Oct 2021   Prob (F-statistic):                        0.00\n",
            "Time:                        16:38:18   Log-Likelihood:                          20205.\n",
            "No. Observations:               94000   AIC:                                 -4.037e+04\n",
            "Df Residuals:                   93981   BIC:                                 -4.019e+04\n",
            "Df Model:                          19                                                  \n",
            "Covariance Type:            nonrobust                                                  \n",
            "==============================================================================\n",
            "                 coef    std err          t      P>|t|      [0.025      0.975]\n",
            "------------------------------------------------------------------------------\n",
            "A1             0.0040      0.000     30.508      0.000       0.004       0.004\n",
            "A2            -0.0004   5.91e-05     -6.598      0.000      -0.001      -0.000\n",
            "A4          4.665e-07   1.08e-07      4.326      0.000    2.55e-07    6.78e-07\n",
            "A5             0.0010   8.08e-05     11.987      0.000       0.001       0.001\n",
            "A7             0.0055      0.001      6.783      0.000       0.004       0.007\n",
            "A8            -0.0005   3.76e-05    -12.511      0.000      -0.001      -0.000\n",
            "A9            -0.0054      0.001     -5.119      0.000      -0.008      -0.003\n",
            "A12            0.0040      0.000      8.974      0.000       0.003       0.005\n",
            "A13            0.0003   7.86e-05      3.721      0.000       0.000       0.000\n",
            "A15        -8.064e-08   1.58e-08     -5.089      0.000   -1.12e-07   -4.96e-08\n",
            "A17        -1.861e-06   5.44e-07     -3.423      0.001   -2.93e-06   -7.96e-07\n",
            "A18            0.0086      0.004      1.970      0.049    4.14e-05       0.017\n",
            "A19            0.0221      0.005      4.208      0.000       0.012       0.032\n",
            "A20            0.0058      0.001      4.414      0.000       0.003       0.008\n",
            "A21         6.057e-05   1.35e-05      4.476      0.000     3.4e-05    8.71e-05\n",
            "A24            0.2156      0.032      6.707      0.000       0.153       0.279\n",
            "A25           -0.0204      0.005     -3.838      0.000      -0.031      -0.010\n",
            "A26        -7.586e-06   1.52e-06     -4.980      0.000   -1.06e-05    -4.6e-06\n",
            "A27        -6.665e-06   1.32e-06     -5.038      0.000   -9.26e-06   -4.07e-06\n",
            "==============================================================================\n",
            "Omnibus:                    77013.117   Durbin-Watson:                   0.131\n",
            "Prob(Omnibus):                  0.000   Jarque-Bera (JB):          1307267.447\n",
            "Skew:                           4.103   Prob(JB):                         0.00\n",
            "Kurtosis:                      19.322   Cond. No.                     6.11e+06\n",
            "==============================================================================\n",
            "\n",
            "Warnings:\n",
            "[1] Standard Errors assume that the covariance matrix of the errors is correctly specified.\n",
            "[2] The condition number is large, 6.11e+06. This might indicate that there are\n",
            "strong multicollinearity or other numerical problems.\n"
          ]
        }
      ]
    },
    {
      "cell_type": "code",
      "metadata": {
        "id": "MuNNRFHaBTsX"
      },
      "source": [
        "#get the training and the testing data with reduced features\n",
        "x_train = data_clip[labels_select]\n",
        "x_test = data_val[labels_select]"
      ],
      "execution_count": null,
      "outputs": []
    },
    {
      "cell_type": "code",
      "metadata": {
        "colab": {
          "base_uri": "https://localhost:8080/",
          "height": 320
        },
        "id": "yj9QfKLxBY1F",
        "outputId": "9210f4fd-d0b9-4f3b-c7ba-04f39002a572"
      },
      "source": [
        "#looking at the distribuition now\n",
        "x_train.describe()"
      ],
      "execution_count": null,
      "outputs": [
        {
          "output_type": "execute_result",
          "data": {
            "text/html": [
              "<div>\n",
              "<style scoped>\n",
              "    .dataframe tbody tr th:only-of-type {\n",
              "        vertical-align: middle;\n",
              "    }\n",
              "\n",
              "    .dataframe tbody tr th {\n",
              "        vertical-align: top;\n",
              "    }\n",
              "\n",
              "    .dataframe thead th {\n",
              "        text-align: right;\n",
              "    }\n",
              "</style>\n",
              "<table border=\"1\" class=\"dataframe\">\n",
              "  <thead>\n",
              "    <tr style=\"text-align: right;\">\n",
              "      <th></th>\n",
              "      <th>A1</th>\n",
              "      <th>A2</th>\n",
              "      <th>A4</th>\n",
              "      <th>A5</th>\n",
              "      <th>A7</th>\n",
              "      <th>A8</th>\n",
              "      <th>A9</th>\n",
              "      <th>A12</th>\n",
              "      <th>A13</th>\n",
              "      <th>A15</th>\n",
              "      <th>A17</th>\n",
              "      <th>A18</th>\n",
              "      <th>A19</th>\n",
              "      <th>A20</th>\n",
              "      <th>A21</th>\n",
              "      <th>A24</th>\n",
              "      <th>A25</th>\n",
              "      <th>A26</th>\n",
              "      <th>A27</th>\n",
              "    </tr>\n",
              "  </thead>\n",
              "  <tbody>\n",
              "    <tr>\n",
              "      <th>count</th>\n",
              "      <td>94000.000000</td>\n",
              "      <td>94000.000000</td>\n",
              "      <td>94000.000000</td>\n",
              "      <td>94000.000000</td>\n",
              "      <td>94000.000000</td>\n",
              "      <td>94000.000000</td>\n",
              "      <td>94000.000000</td>\n",
              "      <td>94000.000000</td>\n",
              "      <td>94000.000000</td>\n",
              "      <td>9.400000e+04</td>\n",
              "      <td>94000.000000</td>\n",
              "      <td>94000.000000</td>\n",
              "      <td>94000.000000</td>\n",
              "      <td>94000.000000</td>\n",
              "      <td>94000.000000</td>\n",
              "      <td>94000.000000</td>\n",
              "      <td>94000.000000</td>\n",
              "      <td>94000.000000</td>\n",
              "      <td>94000.000000</td>\n",
              "    </tr>\n",
              "    <tr>\n",
              "      <th>mean</th>\n",
              "      <td>12.134211</td>\n",
              "      <td>83.838361</td>\n",
              "      <td>13449.501569</td>\n",
              "      <td>33.507640</td>\n",
              "      <td>1.518232</td>\n",
              "      <td>124.108845</td>\n",
              "      <td>1.697824</td>\n",
              "      <td>11.364377</td>\n",
              "      <td>20.453328</td>\n",
              "      <td>1.036205e+05</td>\n",
              "      <td>4113.993992</td>\n",
              "      <td>0.190747</td>\n",
              "      <td>0.112162</td>\n",
              "      <td>1.545606</td>\n",
              "      <td>53.707096</td>\n",
              "      <td>0.013537</td>\n",
              "      <td>0.133531</td>\n",
              "      <td>290.756534</td>\n",
              "      <td>357.976444</td>\n",
              "    </tr>\n",
              "    <tr>\n",
              "      <th>std</th>\n",
              "      <td>6.587858</td>\n",
              "      <td>8.672843</td>\n",
              "      <td>8197.452662</td>\n",
              "      <td>11.906865</td>\n",
              "      <td>1.007398</td>\n",
              "      <td>33.130292</td>\n",
              "      <td>0.776810</td>\n",
              "      <td>2.767727</td>\n",
              "      <td>11.671429</td>\n",
              "      <td>5.954836e+04</td>\n",
              "      <td>1300.549863</td>\n",
              "      <td>0.181137</td>\n",
              "      <td>0.142458</td>\n",
              "      <td>0.627285</td>\n",
              "      <td>56.617973</td>\n",
              "      <td>0.029078</td>\n",
              "      <td>0.156658</td>\n",
              "      <td>471.958770</td>\n",
              "      <td>597.594147</td>\n",
              "    </tr>\n",
              "    <tr>\n",
              "      <th>min</th>\n",
              "      <td>0.000000</td>\n",
              "      <td>20.750000</td>\n",
              "      <td>0.000000</td>\n",
              "      <td>0.000000</td>\n",
              "      <td>0.000000</td>\n",
              "      <td>0.000000</td>\n",
              "      <td>0.000000</td>\n",
              "      <td>1.460000</td>\n",
              "      <td>0.000000</td>\n",
              "      <td>0.000000e+00</td>\n",
              "      <td>0.000000</td>\n",
              "      <td>0.000000</td>\n",
              "      <td>0.000000</td>\n",
              "      <td>0.000000</td>\n",
              "      <td>1.000000</td>\n",
              "      <td>-0.020000</td>\n",
              "      <td>0.000000</td>\n",
              "      <td>-751.260000</td>\n",
              "      <td>-405.370000</td>\n",
              "    </tr>\n",
              "    <tr>\n",
              "      <th>25%</th>\n",
              "      <td>7.670000</td>\n",
              "      <td>79.000000</td>\n",
              "      <td>8700.000000</td>\n",
              "      <td>26.880000</td>\n",
              "      <td>0.820000</td>\n",
              "      <td>103.027500</td>\n",
              "      <td>1.272000</td>\n",
              "      <td>9.640000</td>\n",
              "      <td>13.600000</td>\n",
              "      <td>6.562992e+04</td>\n",
              "      <td>3422.220000</td>\n",
              "      <td>0.080000</td>\n",
              "      <td>0.000000</td>\n",
              "      <td>1.140000</td>\n",
              "      <td>19.000000</td>\n",
              "      <td>0.000000</td>\n",
              "      <td>0.060000</td>\n",
              "      <td>0.000000</td>\n",
              "      <td>0.000000</td>\n",
              "    </tr>\n",
              "    <tr>\n",
              "      <th>50%</th>\n",
              "      <td>12.020000</td>\n",
              "      <td>84.360000</td>\n",
              "      <td>11862.650000</td>\n",
              "      <td>32.770000</td>\n",
              "      <td>1.420000</td>\n",
              "      <td>127.240000</td>\n",
              "      <td>1.667000</td>\n",
              "      <td>11.330000</td>\n",
              "      <td>19.110000</td>\n",
              "      <td>9.074253e+04</td>\n",
              "      <td>4050.000000</td>\n",
              "      <td>0.170000</td>\n",
              "      <td>0.090000</td>\n",
              "      <td>1.450000</td>\n",
              "      <td>39.000000</td>\n",
              "      <td>0.010000</td>\n",
              "      <td>0.090000</td>\n",
              "      <td>115.140000</td>\n",
              "      <td>102.265000</td>\n",
              "    </tr>\n",
              "    <tr>\n",
              "      <th>75%</th>\n",
              "      <td>16.080000</td>\n",
              "      <td>89.670000</td>\n",
              "      <td>15896.575000</td>\n",
              "      <td>39.100000</td>\n",
              "      <td>2.020000</td>\n",
              "      <td>143.100000</td>\n",
              "      <td>2.064000</td>\n",
              "      <td>12.790000</td>\n",
              "      <td>25.170000</td>\n",
              "      <td>1.282739e+05</td>\n",
              "      <td>4668.192500</td>\n",
              "      <td>0.250000</td>\n",
              "      <td>0.140000</td>\n",
              "      <td>1.860000</td>\n",
              "      <td>69.000000</td>\n",
              "      <td>0.010000</td>\n",
              "      <td>0.140000</td>\n",
              "      <td>380.142500</td>\n",
              "      <td>485.880000</td>\n",
              "    </tr>\n",
              "    <tr>\n",
              "      <th>max</th>\n",
              "      <td>62.710000</td>\n",
              "      <td>100.000000</td>\n",
              "      <td>170300.000000</td>\n",
              "      <td>146.000000</td>\n",
              "      <td>18.670000</td>\n",
              "      <td>524.000000</td>\n",
              "      <td>44.000000</td>\n",
              "      <td>35.430000</td>\n",
              "      <td>237.000000</td>\n",
              "      <td>1.079286e+06</td>\n",
              "      <td>20000.000000</td>\n",
              "      <td>3.250000</td>\n",
              "      <td>5.000000</td>\n",
              "      <td>8.100000</td>\n",
              "      <td>1902.000000</td>\n",
              "      <td>1.690000</td>\n",
              "      <td>4.080000</td>\n",
              "      <td>15288.660000</td>\n",
              "      <td>19503.760000</td>\n",
              "    </tr>\n",
              "  </tbody>\n",
              "</table>\n",
              "</div>"
            ],
            "text/plain": [
              "                 A1            A2  ...           A26           A27\n",
              "count  94000.000000  94000.000000  ...  94000.000000  94000.000000\n",
              "mean      12.134211     83.838361  ...    290.756534    357.976444\n",
              "std        6.587858      8.672843  ...    471.958770    597.594147\n",
              "min        0.000000     20.750000  ...   -751.260000   -405.370000\n",
              "25%        7.670000     79.000000  ...      0.000000      0.000000\n",
              "50%       12.020000     84.360000  ...    115.140000    102.265000\n",
              "75%       16.080000     89.670000  ...    380.142500    485.880000\n",
              "max       62.710000    100.000000  ...  15288.660000  19503.760000\n",
              "\n",
              "[8 rows x 19 columns]"
            ]
          },
          "metadata": {},
          "execution_count": 266
        }
      ]
    },
    {
      "cell_type": "markdown",
      "metadata": {
        "id": "dvtA7_aVa7O5"
      },
      "source": [
        "As we can see there are still outliers in each features. Thus, we still cannot standardise the features yet."
      ]
    },
    {
      "cell_type": "markdown",
      "metadata": {
        "id": "dl8yJM8Q7VjY"
      },
      "source": [
        "###Modeling\n",
        "\n",
        "- Here we will try to downsample the majority class, so the labels have 50-50 ratio.\n",
        "\n",
        "- We will also use hybrid approach where, the the ratio will be somewhere around 30-70%.\n",
        "\n",
        "Note that, for logistic regression we just need the amount of data that can help the model better identigfy the decision boundaries."
      ]
    },
    {
      "cell_type": "code",
      "metadata": {
        "colab": {
          "base_uri": "https://localhost:8080/"
        },
        "id": "_C-lPMkd6adL",
        "outputId": "379ccda8-5e74-43c8-b583-199a8d21c5d5"
      },
      "source": [
        "#counting the initial points\n",
        "print(Counter(data_clip_labels))\n",
        "\n",
        "#Sampling the data to 50-50 ratio\n",
        "undersample50 = RandomUnderSampler(sampling_strategy='majority', random_state=42)\n",
        "X50_clip, y50_clip = undersample50.fit_resample(x_train, data_clip_labels)\n",
        "print(Counter(y50_clip))\n",
        "\n",
        "\n",
        "#hybrid approach of down and synthetic upsampling\n",
        "undersample_ratio = RandomUnderSampler(sampling_strategy='majority', random_state=42, ratio=0.3)\n",
        "X_ratioclip, y_ratioclip = undersample_ratio.fit_resample(x_train, data_clip_labels)\n",
        "print(Counter(y_ratioclip))\n",
        "\n",
        "oversample = SMOTE(random_state=42, ratio=0.4)\n",
        "X_ratioclip, y_ratioclip = oversample.fit_resample(X_ratioclip, y_ratioclip)\n",
        "print(Counter(y_ratioclip))"
      ],
      "execution_count": null,
      "outputs": [
        {
          "output_type": "stream",
          "name": "stdout",
          "text": [
            "Counter({0: 90000, 1: 4000})\n",
            "Counter({0: 4000, 1: 4000})\n",
            "Counter({0: 13333, 1: 4000})\n",
            "Counter({0: 13333, 1: 5333})\n"
          ]
        },
        {
          "output_type": "stream",
          "name": "stderr",
          "text": [
            "/usr/local/lib/python3.7/dist-packages/sklearn/utils/deprecation.py:87: FutureWarning: Function safe_indexing is deprecated; safe_indexing is deprecated in version 0.22 and will be removed in version 0.24.\n",
            "  warnings.warn(msg, category=FutureWarning)\n",
            "/usr/local/lib/python3.7/dist-packages/sklearn/utils/deprecation.py:87: FutureWarning: Function safe_indexing is deprecated; safe_indexing is deprecated in version 0.22 and will be removed in version 0.24.\n",
            "  warnings.warn(msg, category=FutureWarning)\n",
            "/usr/local/lib/python3.7/dist-packages/sklearn/utils/deprecation.py:87: FutureWarning: Function safe_indexing is deprecated; safe_indexing is deprecated in version 0.22 and will be removed in version 0.24.\n",
            "  warnings.warn(msg, category=FutureWarning)\n"
          ]
        }
      ]
    },
    {
      "cell_type": "code",
      "metadata": {
        "id": "RjagGCuJ9MBX"
      },
      "source": [
        "## scaling traing and testing data\n",
        "\n",
        "scaler_clip = StandardScaler()\n",
        "scaled_clip = scaler_clip.fit_transform(X50_clip)\n",
        "\n",
        "val_scaled = scaler_clip.transform(x_test)"
      ],
      "execution_count": null,
      "outputs": []
    },
    {
      "cell_type": "code",
      "metadata": {
        "id": "UbjeFQm-9Hxm"
      },
      "source": [
        "##Logistic regressor for \n",
        "\n",
        "clip_regressor = LogisticRegression(max_iter=500)\n",
        "clip_regressor.fit(scaled_clip, y50_clip)\n",
        "ypred_clip = clip_regressor.predict(val_scaled)\n"
      ],
      "execution_count": null,
      "outputs": []
    },
    {
      "cell_type": "code",
      "metadata": {
        "colab": {
          "base_uri": "https://localhost:8080/",
          "height": 700
        },
        "id": "-KUAZBYW_3zh",
        "outputId": "b9b588a9-4396-4926-e5bd-88c4f717df26"
      },
      "source": [
        "#printing the accuracies \n",
        "print(f\"Validation set accuracy is {clip_regressor.score(val_scaled, valclip_labels)}\")\n",
        "\n",
        "conf_matrix = confusion_matrix(y_true=valclip_labels, y_pred=ypred_clip)\n",
        "print(\"=====\"*30)\n",
        "print(\"Other evaluation metrics for val dataset:\")\n",
        "print(conf_matrix)\n",
        "plot_confusion_matrix(clip_regressor, val_scaled, valclip_labels)\n",
        "plot_roc_curve(clip_regressor, val_scaled, valclip_labels)\n",
        "\n",
        "print('Precision: %.3f' % precision_score(valclip_labels, ypred_clip))\n",
        "print('Recall: %.3f' % recall_score(valclip_labels, ypred_clip))\n",
        "print('F1 Score: %.3f' % f1_score(valclip_labels, ypred_clip))"
      ],
      "execution_count": null,
      "outputs": [
        {
          "output_type": "stream",
          "name": "stdout",
          "text": [
            "Validation set accuracy is 0.7382608695652174\n",
            "======================================================================================================================================================\n",
            "Other evaluation metrics for val dataset:\n",
            "[[7375 2625]\n",
            " [ 385 1115]]\n",
            "Precision: 0.298\n",
            "Recall: 0.743\n",
            "F1 Score: 0.426\n"
          ]
        },
        {
          "output_type": "display_data",
          "data": {
            "image/png": "[encoded data removed]",
            "text/plain": [
              "<Figure size 432x288 with 2 Axes>"
            ]
          },
          "metadata": {
            "needs_background": "light"
          }
        },
        {
          "output_type": "display_data",
          "data": {
            "image/png": "[encoded data removed]",
            "text/plain": [
              "<Figure size 432x288 with 1 Axes>"
            ]
          },
          "metadata": {
            "needs_background": "light"
          }
        }
      ]
    },
    {
      "cell_type": "markdown",
      "metadata": {
        "id": "I5hlk8RCG3ZY"
      },
      "source": [
        "## Model for hybrid sampling techniques\n"
      ]
    },
    {
      "cell_type": "code",
      "metadata": {
        "id": "JMllyeG0EVgT"
      },
      "source": [
        "#scaling the features for hybrid\n",
        "scalerratio_clip = StandardScaler()\n",
        "scaled_ratio_clip = scalerratio_clip.fit_transform(X_ratioclip)\n",
        "\n",
        "valratio_scaled = scalerratio_clip.transform(x_test)"
      ],
      "execution_count": null,
      "outputs": []
    },
    {
      "cell_type": "code",
      "metadata": {
        "id": "lNFfuOqaEYTp"
      },
      "source": [
        "#model for hybrid sampling (SMOTE technique for oversampling)\n",
        "clipratio_regressor = LogisticRegression(max_iter=500)\n",
        "clipratio_regressor.fit(scaled_ratio_clip, y_ratioclip)\n",
        "ypred_clip_ratio = clipratio_regressor.predict(valratio_scaled)"
      ],
      "execution_count": null,
      "outputs": []
    },
    {
      "cell_type": "code",
      "metadata": {
        "colab": {
          "base_uri": "https://localhost:8080/",
          "height": 700
        },
        "id": "1Us7C4UUEYiT",
        "outputId": "376e9ac6-ce7a-4187-d178-c940331944b4"
      },
      "source": [
        "print(f\"Validation set accuracy is {clipratio_regressor.score(valratio_scaled, valclip_labels)}\")\n",
        "\n",
        "conf_matrix = confusion_matrix(y_true=valclip_labels, y_pred=ypred_clip_ratio)\n",
        "\n",
        "print(\"=====\"*30)\n",
        "print(\"Other evaluation metrics for val dataset:\")\n",
        "print(conf_matrix)\n",
        "plot_confusion_matrix(clipratio_regressor, valratio_scaled, valclip_labels)\n",
        "plot_roc_curve(clipratio_regressor, valratio_scaled, valclip_labels)\n",
        "\n",
        "print('Precision: %.3f' % precision_score(valclip_labels, ypred_clip_ratio))\n",
        "print('Recall: %.3f' % recall_score(valclip_labels, ypred_clip_ratio))\n",
        "print('F1 Score: %.3f' % f1_score(valclip_labels, ypred_clip_ratio))"
      ],
      "execution_count": null,
      "outputs": [
        {
          "output_type": "stream",
          "name": "stdout",
          "text": [
            "Validation set accuracy is 0.8696521739130435\n",
            "======================================================================================================================================================\n",
            "Other evaluation metrics for val dataset:\n",
            "[[9218  782]\n",
            " [ 717  783]]\n",
            "Precision: 0.500\n",
            "Recall: 0.522\n",
            "F1 Score: 0.511\n"
          ]
        },
        {
          "output_type": "display_data",
          "data": {
            "image/png": "[encoded data removed]",
            "text/plain": [
              "<Figure size 432x288 with 2 Axes>"
            ]
          },
          "metadata": {
            "needs_background": "light"
          }
        },
        {
          "output_type": "display_data",
          "data": {
            "image/png": "[encoded data removed]",
            "text/plain": [
              "<Figure size 432x288 with 1 Axes>"
            ]
          },
          "metadata": {
            "needs_background": "light"
          }
        }
      ]
    },
    {
      "cell_type": "markdown",
      "metadata": {
        "id": "mJWDRpQpKH3v"
      },
      "source": [
        "## Conclusion ??\n",
        "\n",
        "- Hybrid sampling works better."
      ]
    },
    {
      "cell_type": "markdown",
      "metadata": {
        "id": "M9MP47X6HFhP"
      },
      "source": [
        "##Now let us try to remove those data points instead."
      ]
    },
    {
      "cell_type": "code",
      "metadata": {
        "id": "0Nfzm01J5qhd"
      },
      "source": [
        "#now, for removing outliers we see how many instances are there\n",
        "\n",
        "def detect_out(df, feature):\n",
        "  Q1 = df[feature].quantile(0.1)\n",
        "  Q3 = df[feature].quantile(0.9)\n",
        "  IQR = Q3- Q1\n",
        "\n",
        "  low_bound = Q1 - 1.5*IQR\n",
        "  up_bound = Q3 + 1.5*IQR\n",
        "\n",
        "  ls = df.index[(df[feature] < low_bound) |(df[feature] > up_bound) ]\n",
        "\n",
        "  return ls"
      ],
      "execution_count": null,
      "outputs": []
    },
    {
      "cell_type": "code",
      "metadata": {
        "id": "8c-VeHivGupO"
      },
      "source": [
        "#Detecting the outliers using the function\n",
        "list_index = []\n",
        "\n",
        "for i in labels_select:\n",
        "  list_index.extend(detect_out(x_train, i))"
      ],
      "execution_count": null,
      "outputs": []
    },
    {
      "cell_type": "code",
      "metadata": {
        "id": "w5zh55sc8nWd"
      },
      "source": [
        "class_labels = data_clip_labels"
      ],
      "execution_count": null,
      "outputs": []
    },
    {
      "cell_type": "code",
      "metadata": {
        "id": "7DvCjeFXOUKZ"
      },
      "source": [
        "#Counting the minority class instances to figure out the total ratio from the outliers\n",
        "\n",
        "list_index = set(list_index)\n",
        "majority_list = []\n",
        "count1_label = 0\n",
        "for i in list_index:\n",
        "  if class_labels[i] == 1:\n",
        "    count1_label += 1\n",
        "  else:\n",
        "    majority_list.append(i)\n"
      ],
      "execution_count": null,
      "outputs": []
    },
    {
      "cell_type": "code",
      "metadata": {
        "colab": {
          "base_uri": "https://localhost:8080/"
        },
        "id": "uCoHSWSlOlim",
        "outputId": "dc989f9f-aacc-483d-c20f-1831533457e2"
      },
      "source": [
        "print(\"Total instances that can be counted as outliers\", len(list_index))\n",
        "print(\"Total instances that are outloiers and are from minority class are \", count1_label)\n",
        "print(\"Total percentage of those from the total amount of outliers is \",(count1_label)/len(list_index)*100)"
      ],
      "execution_count": null,
      "outputs": [
        {
          "output_type": "stream",
          "name": "stdout",
          "text": [
            "Total instances that can be counted as outliers 10707\n",
            "Total instances that are outloiers and are from minority class are  683\n",
            "Total percentage of those from the total amount of outliers is  6.379004389651629\n"
          ]
        }
      ]
    },
    {
      "cell_type": "code",
      "metadata": {
        "colab": {
          "base_uri": "https://localhost:8080/"
        },
        "id": "rKJM9z_NeyXq",
        "outputId": "554fe689-0205-4c0f-ff46-ca11af778dca"
      },
      "source": [
        "#creating a dataframe after dropping all the outliers\n",
        "\n",
        "list_index = list(list_index)\n",
        "index_points = x_train.index[list_index]\n",
        "x_train['default'] = class_labels\n",
        "data_dropped = x_train.drop(index_points)\n",
        "y_train = data_dropped['default'].values\n",
        "data_dropped = data_dropped.drop(['default'],axis = 1)\n",
        "print(data_dropped)\n",
        "print(len(y_train))\n"
      ],
      "execution_count": null,
      "outputs": [
        {
          "output_type": "stream",
          "name": "stdout",
          "text": [
            "          A1     A2        A4     A5    A7  ...  A21   A24   A25      A26      A27\n",
            "0      10.69  86.10  19912.85  30.42  1.18  ...   10  0.01  0.13     0.00     0.00\n",
            "1      28.50  65.19   6716.67  32.50  2.74  ...   35  0.00  0.09   285.80     0.00\n",
            "2      24.87  73.79   6463.75  40.50  2.84  ...   31  0.02  0.44   494.62   135.41\n",
            "3      13.64  85.82   9244.44  49.56  0.36  ...   29  0.00  0.05  1015.19     0.00\n",
            "4       4.50  95.92  19987.50  32.75  0.92  ...   22  0.00  0.04     0.00   106.41\n",
            "...      ...    ...       ...    ...   ...  ...  ...   ...   ...      ...      ...\n",
            "93995   8.18  92.55   5420.00  30.60  0.73  ...   28  0.04  0.04     0.00     0.00\n",
            "93996  13.22  84.14  14460.69  32.74  1.85  ...   22  0.01  0.28   221.97     0.00\n",
            "93997  14.91  85.36   6070.00  31.30  2.09  ...   97  0.04  0.23   468.81   265.85\n",
            "93998  10.77  85.94  19452.79  29.92  1.24  ...  151  0.02  0.10    83.90  1034.35\n",
            "93999  23.47  78.27   5800.87  42.67  2.42  ...   40  0.02  0.39   126.60    70.28\n",
            "\n",
            "[83293 rows x 19 columns]\n",
            "83293\n"
          ]
        },
        {
          "output_type": "stream",
          "name": "stderr",
          "text": [
            "/usr/local/lib/python3.7/dist-packages/ipykernel_launcher.py:5: SettingWithCopyWarning: \n",
            "A value is trying to be set on a copy of a slice from a DataFrame.\n",
            "Try using .loc[row_indexer,col_indexer] = value instead\n",
            "\n",
            "See the caveats in the documentation: https://pandas.pydata.org/pandas-docs/stable/user_guide/indexing.html#returning-a-view-versus-a-copy\n",
            "  \"\"\"\n"
          ]
        }
      ]
    },
    {
      "cell_type": "code",
      "metadata": {
        "colab": {
          "base_uri": "https://localhost:8080/",
          "height": 320
        },
        "id": "-EEn-bWyfQh1",
        "outputId": "802101d8-8042-42bd-d772-b454eca5b930"
      },
      "source": [
        "#dataframe after removing the outliers. Now the distribuition is much more smoother\n",
        "data_dropped.describe()"
      ],
      "execution_count": null,
      "outputs": [
        {
          "output_type": "execute_result",
          "data": {
            "text/html": [
              "<div>\n",
              "<style scoped>\n",
              "    .dataframe tbody tr th:only-of-type {\n",
              "        vertical-align: middle;\n",
              "    }\n",
              "\n",
              "    .dataframe tbody tr th {\n",
              "        vertical-align: top;\n",
              "    }\n",
              "\n",
              "    .dataframe thead th {\n",
              "        text-align: right;\n",
              "    }\n",
              "</style>\n",
              "<table border=\"1\" class=\"dataframe\">\n",
              "  <thead>\n",
              "    <tr style=\"text-align: right;\">\n",
              "      <th></th>\n",
              "      <th>A1</th>\n",
              "      <th>A2</th>\n",
              "      <th>A4</th>\n",
              "      <th>A5</th>\n",
              "      <th>A7</th>\n",
              "      <th>A8</th>\n",
              "      <th>A9</th>\n",
              "      <th>A12</th>\n",
              "      <th>A13</th>\n",
              "      <th>A15</th>\n",
              "      <th>A17</th>\n",
              "      <th>A18</th>\n",
              "      <th>A19</th>\n",
              "      <th>A20</th>\n",
              "      <th>A21</th>\n",
              "      <th>A24</th>\n",
              "      <th>A25</th>\n",
              "      <th>A26</th>\n",
              "      <th>A27</th>\n",
              "    </tr>\n",
              "  </thead>\n",
              "  <tbody>\n",
              "    <tr>\n",
              "      <th>count</th>\n",
              "      <td>83293.000000</td>\n",
              "      <td>83293.000000</td>\n",
              "      <td>83293.000000</td>\n",
              "      <td>83293.000000</td>\n",
              "      <td>83293.000000</td>\n",
              "      <td>83293.000000</td>\n",
              "      <td>83293.000000</td>\n",
              "      <td>83293.000000</td>\n",
              "      <td>83293.000000</td>\n",
              "      <td>83293.000000</td>\n",
              "      <td>83293.000000</td>\n",
              "      <td>83293.000000</td>\n",
              "      <td>83293.000000</td>\n",
              "      <td>83293.000000</td>\n",
              "      <td>83293.000000</td>\n",
              "      <td>83293.000000</td>\n",
              "      <td>83293.000000</td>\n",
              "      <td>83293.000000</td>\n",
              "      <td>83293.000000</td>\n",
              "    </tr>\n",
              "    <tr>\n",
              "      <th>mean</th>\n",
              "      <td>12.074363</td>\n",
              "      <td>83.942991</td>\n",
              "      <td>13108.609338</td>\n",
              "      <td>33.300007</td>\n",
              "      <td>1.480328</td>\n",
              "      <td>124.160119</td>\n",
              "      <td>1.690433</td>\n",
              "      <td>11.367523</td>\n",
              "      <td>20.219462</td>\n",
              "      <td>102372.146413</td>\n",
              "      <td>4113.152311</td>\n",
              "      <td>0.181394</td>\n",
              "      <td>0.102294</td>\n",
              "      <td>1.537599</td>\n",
              "      <td>48.124248</td>\n",
              "      <td>0.008949</td>\n",
              "      <td>0.105582</td>\n",
              "      <td>255.272104</td>\n",
              "      <td>314.616757</td>\n",
              "    </tr>\n",
              "    <tr>\n",
              "      <th>std</th>\n",
              "      <td>6.467178</td>\n",
              "      <td>8.445408</td>\n",
              "      <td>6609.359364</td>\n",
              "      <td>11.448953</td>\n",
              "      <td>0.922658</td>\n",
              "      <td>32.354376</td>\n",
              "      <td>0.701727</td>\n",
              "      <td>2.708177</td>\n",
              "      <td>10.888662</td>\n",
              "      <td>54363.948674</td>\n",
              "      <td>1235.455009</td>\n",
              "      <td>0.152600</td>\n",
              "      <td>0.102590</td>\n",
              "      <td>0.604651</td>\n",
              "      <td>40.658126</td>\n",
              "      <td>0.011870</td>\n",
              "      <td>0.080042</td>\n",
              "      <td>359.297288</td>\n",
              "      <td>470.705756</td>\n",
              "    </tr>\n",
              "    <tr>\n",
              "      <th>min</th>\n",
              "      <td>0.000000</td>\n",
              "      <td>40.430000</td>\n",
              "      <td>0.000000</td>\n",
              "      <td>0.000000</td>\n",
              "      <td>0.000000</td>\n",
              "      <td>0.000000</td>\n",
              "      <td>0.000000</td>\n",
              "      <td>1.460000</td>\n",
              "      <td>0.000000</td>\n",
              "      <td>0.000000</td>\n",
              "      <td>0.000000</td>\n",
              "      <td>0.000000</td>\n",
              "      <td>0.000000</td>\n",
              "      <td>0.000000</td>\n",
              "      <td>1.000000</td>\n",
              "      <td>-0.020000</td>\n",
              "      <td>0.000000</td>\n",
              "      <td>-751.260000</td>\n",
              "      <td>-405.370000</td>\n",
              "    </tr>\n",
              "    <tr>\n",
              "      <th>25%</th>\n",
              "      <td>7.680000</td>\n",
              "      <td>79.130000</td>\n",
              "      <td>8789.940000</td>\n",
              "      <td>26.880000</td>\n",
              "      <td>0.820000</td>\n",
              "      <td>103.360000</td>\n",
              "      <td>1.286000</td>\n",
              "      <td>9.670000</td>\n",
              "      <td>13.660000</td>\n",
              "      <td>66072.740000</td>\n",
              "      <td>3443.750000</td>\n",
              "      <td>0.080000</td>\n",
              "      <td>0.000000</td>\n",
              "      <td>1.140000</td>\n",
              "      <td>19.000000</td>\n",
              "      <td>0.000000</td>\n",
              "      <td>0.060000</td>\n",
              "      <td>0.000000</td>\n",
              "      <td>0.000000</td>\n",
              "    </tr>\n",
              "    <tr>\n",
              "      <th>50%</th>\n",
              "      <td>11.990000</td>\n",
              "      <td>84.410000</td>\n",
              "      <td>11901.660000</td>\n",
              "      <td>32.700000</td>\n",
              "      <td>1.400000</td>\n",
              "      <td>127.280000</td>\n",
              "      <td>1.667000</td>\n",
              "      <td>11.340000</td>\n",
              "      <td>19.080000</td>\n",
              "      <td>90836.000000</td>\n",
              "      <td>4056.380000</td>\n",
              "      <td>0.170000</td>\n",
              "      <td>0.090000</td>\n",
              "      <td>1.450000</td>\n",
              "      <td>37.000000</td>\n",
              "      <td>0.010000</td>\n",
              "      <td>0.080000</td>\n",
              "      <td>108.910000</td>\n",
              "      <td>95.220000</td>\n",
              "    </tr>\n",
              "    <tr>\n",
              "      <th>75%</th>\n",
              "      <td>16.000000</td>\n",
              "      <td>89.660000</td>\n",
              "      <td>15835.850000</td>\n",
              "      <td>38.890000</td>\n",
              "      <td>2.000000</td>\n",
              "      <td>142.960000</td>\n",
              "      <td>2.057000</td>\n",
              "      <td>12.780000</td>\n",
              "      <td>25.000000</td>\n",
              "      <td>127583.140000</td>\n",
              "      <td>4664.710000</td>\n",
              "      <td>0.240000</td>\n",
              "      <td>0.140000</td>\n",
              "      <td>1.850000</td>\n",
              "      <td>65.000000</td>\n",
              "      <td>0.010000</td>\n",
              "      <td>0.130000</td>\n",
              "      <td>358.160000</td>\n",
              "      <td>451.930000</td>\n",
              "    </tr>\n",
              "    <tr>\n",
              "      <th>max</th>\n",
              "      <td>45.830000</td>\n",
              "      <td>100.000000</td>\n",
              "      <td>45635.290000</td>\n",
              "      <td>90.750000</td>\n",
              "      <td>6.210000</td>\n",
              "      <td>280.130000</td>\n",
              "      <td>5.000000</td>\n",
              "      <td>24.530000</td>\n",
              "      <td>75.330000</td>\n",
              "      <td>377582.000000</td>\n",
              "      <td>10175.000000</td>\n",
              "      <td>0.950000</td>\n",
              "      <td>0.600000</td>\n",
              "      <td>4.550000</td>\n",
              "      <td>262.000000</td>\n",
              "      <td>0.070000</td>\n",
              "      <td>0.560000</td>\n",
              "      <td>2019.950000</td>\n",
              "      <td>2648.260000</td>\n",
              "    </tr>\n",
              "  </tbody>\n",
              "</table>\n",
              "</div>"
            ],
            "text/plain": [
              "                 A1            A2  ...           A26           A27\n",
              "count  83293.000000  83293.000000  ...  83293.000000  83293.000000\n",
              "mean      12.074363     83.942991  ...    255.272104    314.616757\n",
              "std        6.467178      8.445408  ...    359.297288    470.705756\n",
              "min        0.000000     40.430000  ...   -751.260000   -405.370000\n",
              "25%        7.680000     79.130000  ...      0.000000      0.000000\n",
              "50%       11.990000     84.410000  ...    108.910000     95.220000\n",
              "75%       16.000000     89.660000  ...    358.160000    451.930000\n",
              "max       45.830000    100.000000  ...   2019.950000   2648.260000\n",
              "\n",
              "[8 rows x 19 columns]"
            ]
          },
          "metadata": {},
          "execution_count": 280
        }
      ]
    },
    {
      "cell_type": "markdown",
      "metadata": {
        "id": "qOJHRFWvV2tE"
      },
      "source": [
        "### Perhaps we are not loosing that much labels??\n",
        "\n",
        "- Now we will test with the data where we are removing outliers since it still maintains the overall majority to minority class ratio. \n",
        "\n",
        "- We will use hybrid sampling since it gave us the best result."
      ]
    },
    {
      "cell_type": "code",
      "metadata": {
        "colab": {
          "base_uri": "https://localhost:8080/"
        },
        "id": "NSu24eEgWHSK",
        "outputId": "1e4f7cc6-2858-4cf1-a4b4-17dc3a6d8136"
      },
      "source": [
        "## hybrid sampling where we undersmaple the majority class and use SMOTE for minority class\n",
        "\n",
        "print(Counter(y_train))\n",
        "\n",
        "undersample = RandomUnderSampler(sampling_strategy='majority', random_state=42, ratio=0.3)\n",
        "X_res, y_res = undersample.fit_resample(data_dropped, y_train)\n",
        "print(Counter(y_res))\n",
        "\n",
        "\n",
        "oversample = SMOTE(random_state=42, ratio=0.4)\n",
        "X_res, y_res = oversample.fit_resample(X_res, y_res)\n",
        "print(Counter(y_res))"
      ],
      "execution_count": null,
      "outputs": [
        {
          "output_type": "stream",
          "name": "stdout",
          "text": [
            "Counter({0: 79976, 1: 3317})\n",
            "Counter({0: 11056, 1: 3317})\n",
            "Counter({0: 11056, 1: 4422})\n"
          ]
        },
        {
          "output_type": "stream",
          "name": "stderr",
          "text": [
            "/usr/local/lib/python3.7/dist-packages/sklearn/utils/deprecation.py:87: FutureWarning: Function safe_indexing is deprecated; safe_indexing is deprecated in version 0.22 and will be removed in version 0.24.\n",
            "  warnings.warn(msg, category=FutureWarning)\n",
            "/usr/local/lib/python3.7/dist-packages/sklearn/utils/deprecation.py:87: FutureWarning: Function safe_indexing is deprecated; safe_indexing is deprecated in version 0.22 and will be removed in version 0.24.\n",
            "  warnings.warn(msg, category=FutureWarning)\n"
          ]
        }
      ]
    },
    {
      "cell_type": "code",
      "metadata": {
        "id": "MLjJYUTwXlto"
      },
      "source": [
        "data_val_copy = data_val.copy()"
      ],
      "execution_count": null,
      "outputs": []
    },
    {
      "cell_type": "code",
      "metadata": {
        "id": "MKzkZx3tiyMO"
      },
      "source": [
        "#Scaling the data\n",
        "\n",
        "scaler_dropped = StandardScaler()\n",
        "dropped_scaled = scaler_dropped.fit_transform(X_res)\n",
        "\n",
        "test_scaled = scaler_dropped.transform(x_test)\n"
      ],
      "execution_count": null,
      "outputs": []
    },
    {
      "cell_type": "code",
      "metadata": {
        "id": "8AbpFWGLPAMj"
      },
      "source": [
        "#logistic regressor when we dropped the outliers with hybrid modelling\n",
        "dropped_regressor = LogisticRegression(max_iter=1000)\n",
        "\n",
        "dropped_regressor.fit(dropped_scaled,y_res)\n",
        "\n",
        "yhat_dropped = dropped_regressor.predict(test_scaled)"
      ],
      "execution_count": null,
      "outputs": []
    },
    {
      "cell_type": "code",
      "metadata": {
        "colab": {
          "base_uri": "https://localhost:8080/",
          "height": 703
        },
        "id": "3jHxeZjKkVll",
        "outputId": "cb0f9996-57f5-48aa-c957-b4836140b953"
      },
      "source": [
        "#print(f\"Training accuracy is {dropped_regressor.score(dropped_scaled, y_res)}\")\n",
        "print(f\"Val set accuracy is {dropped_regressor.score(test_scaled, valclip_labels)}\")\n",
        "\n",
        "conf_matrix = confusion_matrix(y_true=valclip_labels, y_pred=yhat_dropped)\n",
        "\n",
        "print(\"=====\"*30)\n",
        "print(\"Other evaluation metrics for val dataset:\")\n",
        "print(conf_matrix)\n",
        "plot_confusion_matrix(dropped_regressor, test_scaled, valclip_labels)\n",
        "plot_roc_curve(dropped_regressor, test_scaled, valclip_labels)\n",
        "\n",
        "print('Precision: %.3f' % precision_score(valclip_labels, yhat_dropped))\n",
        "print('Recall: %.3f' % recall_score(valclip_labels, yhat_dropped))\n",
        "print('F1 Score: %.3f' % f1_score(valclip_labels, yhat_dropped))"
      ],
      "execution_count": null,
      "outputs": [
        {
          "output_type": "stream",
          "name": "stdout",
          "text": [
            "Val set accuracy is 0.8591304347826086\n",
            "======================================================================================================================================================\n",
            "Other evaluation metrics for val dataset:\n",
            "[[9050  950]\n",
            " [ 670  830]]\n",
            "Precision: 0.466\n",
            "Recall: 0.553\n",
            "F1 Score: 0.506\n"
          ]
        },
        {
          "output_type": "display_data",
          "data": {
            "image/png": "[encoded data removed]",
            "text/plain": [
              "<Figure size 432x288 with 2 Axes>"
            ]
          },
          "metadata": {
            "needs_background": "light"
          }
        },
        {
          "output_type": "display_data",
          "data": {
            "image/png": "[encoded data removed]",
            "text/plain": [
              "<Figure size 432x288 with 1 Axes>"
            ]
          },
          "metadata": {
            "needs_background": "light"
          }
        }
      ]
    },
    {
      "cell_type": "code",
      "metadata": {
        "id": "JQ_rPa8xO0Xs"
      },
      "source": [
        "#saving the prediction probablieties into an CSV file\n",
        "\n",
        "probab_regressor = dropped_regressor.predict_proba(test_scaled)\n",
        "df_probabs = pd.DataFrame(probab_regressor)\n",
        "probab_1 = df_probabs[1].values\n",
        "df_create['probabs'] = probab_1\n",
        "df_create.to_csv('results1.csv')"
      ],
      "execution_count": null,
      "outputs": []
    },
    {
      "cell_type": "markdown",
      "metadata": {
        "id": "41kIBE4lTSBG"
      },
      "source": [
        "##what other modeling methode can we try??\n",
        "\n",
        "- Maybe SVC or randomforest classifiers???"
      ]
    },
    {
      "cell_type": "markdown",
      "metadata": {
        "id": "1mySE3h-Vy62"
      },
      "source": [
        "- Implementing SVC"
      ]
    },
    {
      "cell_type": "code",
      "metadata": {
        "id": "wtfh5OXKWPX_"
      },
      "source": [
        "from sklearn.svm import SVC"
      ],
      "execution_count": null,
      "outputs": []
    },
    {
      "cell_type": "code",
      "metadata": {
        "id": "CHFfshIEWWWE"
      },
      "source": [
        "#SVC model for hybrid sampling\n",
        "\n",
        "svc = SVC(kernel='linear', C=2.0, random_state=42)\n",
        "svc.fit(dropped_scaled, y_res)\n",
        "\n",
        "svc_pred = svc.predict(test_scaled)"
      ],
      "execution_count": null,
      "outputs": []
    },
    {
      "cell_type": "code",
      "metadata": {
        "colab": {
          "base_uri": "https://localhost:8080/",
          "height": 702
        },
        "id": "UmlTGLXdWnQf",
        "outputId": "75f2c231-798c-417e-a2e8-42394fa5a048"
      },
      "source": [
        "#printing ROC and other evaluation metrics\n",
        "print(f\"Val data accuracy is {svc.score(test_scaled, valclip_labels)}\")\n",
        "\n",
        "conf_matrix = confusion_matrix(y_true=valclip_labels, y_pred=svc_pred)\n",
        "\n",
        "print(\"=====\"*30)\n",
        "print(\"Other evaluation metrics for val dataset:\")\n",
        "print(conf_matrix)\n",
        "plot_confusion_matrix(svc, test_scaled, valclip_labels)\n",
        "plot_roc_curve(svc, test_scaled, valclip_labels)\n",
        "\n",
        "print('Precision: %.3f' % precision_score(valclip_labels, svc_pred))\n",
        "print('Recall: %.3f' % recall_score(valclip_labels, svc_pred))\n",
        "print('F1 Score: %.3f' % f1_score(valclip_labels, svc_pred))"
      ],
      "execution_count": null,
      "outputs": [
        {
          "output_type": "stream",
          "name": "stdout",
          "text": [
            "Val data accuracy is 0.8616521739130435\n",
            "======================================================================================================================================================\n",
            "Other evaluation metrics for val dataset:\n",
            "[[9097  903]\n",
            " [ 688  812]]\n",
            "Precision: 0.473\n",
            "Recall: 0.541\n",
            "F1 Score: 0.505\n"
          ]
        },
        {
          "output_type": "display_data",
          "data": {
            "image/png": "[encoded data removed]",
            "text/plain": [
              "<Figure size 432x288 with 2 Axes>"
            ]
          },
          "metadata": {
            "needs_background": "light"
          }
        },
        {
          "output_type": "display_data",
          "data": {
            "image/png": "[encoded data removed]",
            "text/plain": [
              "<Figure size 432x288 with 1 Axes>"
            ]
          },
          "metadata": {
            "needs_background": "light"
          }
        }
      ]
    },
    {
      "cell_type": "code",
      "metadata": {
        "id": "cyBqS_mWWn9_"
      },
      "source": [
        "from xgboost import XGBClassifier\n"
      ],
      "execution_count": null,
      "outputs": []
    },
    {
      "cell_type": "code",
      "metadata": {
        "id": "Lma5XRoXhALk"
      },
      "source": [
        "data_val_numpy = x_test.to_numpy()"
      ],
      "execution_count": null,
      "outputs": []
    },
    {
      "cell_type": "code",
      "metadata": {
        "id": "Jvb8N3hTevqt"
      },
      "source": [
        "modelxgb = XGBClassifier(random_state=42)\n",
        "modelxgb.fit(X_res, y_res)\n",
        "\n",
        "yhat_xgb = modelxgb.predict(data_val_numpy)"
      ],
      "execution_count": null,
      "outputs": []
    },
    {
      "cell_type": "code",
      "metadata": {
        "colab": {
          "base_uri": "https://localhost:8080/",
          "height": 701
        },
        "id": "4-EiPV3MfpbQ",
        "outputId": "05e2d103-826c-4223-95c8-a31d2579d8c5"
      },
      "source": [
        "print(f\"Testing accuracy is {modelxgb.score(data_val_numpy, valclip_labels)}\")\n",
        "\n",
        "conf_matrix = confusion_matrix(y_true=valclip_labels, y_pred=yhat_xgb)\n",
        "\n",
        "print(\"=====\"*30)\n",
        "print(\"Testing data evaluation\")\n",
        "print(conf_matrix)\n",
        "plot_confusion_matrix(modelxgb, data_val_numpy, valclip_labels)\n",
        "plot_roc_curve(modelxgb, data_val_numpy, valclip_labels)\n",
        "\n",
        "print('Precision: %.3f' % precision_score(valclip_labels, yhat_xgb))\n",
        "print('Recall: %.3f' % recall_score(valclip_labels, yhat_xgb))\n",
        "print('F1 Score: %.3f' % f1_score(valclip_labels, yhat_xgb))"
      ],
      "execution_count": null,
      "outputs": [
        {
          "output_type": "stream",
          "name": "stdout",
          "text": [
            "Testing accuracy is 0.8648695652173913\n",
            "======================================================================================================================================================\n",
            "Testing data evaluation\n",
            "[[9129  871]\n",
            " [ 683  817]]\n",
            "Precision: 0.484\n",
            "Recall: 0.545\n",
            "F1 Score: 0.513\n"
          ]
        },
        {
          "output_type": "display_data",
          "data": {
            "image/png": "[encoded data removed]",
            "text/plain": [
              "<Figure size 432x288 with 2 Axes>"
            ]
          },
          "metadata": {
            "needs_background": "light"
          }
        },
        {
          "output_type": "display_data",
          "data": {
            "image/png": "[encoded data removed]",
            "text/plain": [
              "<Figure size 432x288 with 1 Axes>"
            ]
          },
          "metadata": {
            "needs_background": "light"
          }
        }
      ]
    },
    {
      "cell_type": "code",
      "metadata": {
        "id": "s6lIdhHpFe8Z"
      },
      "source": [
        "probab_svc = modelxgb.predict_proba(data_val_numpy)\n",
        "df_probabs = pd.DataFrame(probab_svc)\n",
        "probab_1 = df_probabs[1].values\n",
        "df_create['probabs'] = probab_1\n",
        "df_create.to_csv('results2.csv')"
      ],
      "execution_count": null,
      "outputs": []
    },
    {
      "cell_type": "markdown",
      "metadata": {
        "id": "8P8lVmgxwuBq"
      },
      "source": [
        "##Final summary\n",
        "\n",
        "###Experiments:\n",
        "- So I prepared the dataset after feature engineering, where we first removed the correlated features and then we removed the features based on p-value.\n",
        "\n",
        "- I also tried forward and backward selection but it was computationally heavy and aslo the other feature selection pipeline gave better results.\n",
        "\n",
        "After choosing the feature engineering pipeline for the dataset, I then checked the results if we keep the outliers and if we simply remove the outlkiers. Now, I looked at the samplng technique where I used 2 options.\n",
        "\n",
        "1. We used the 50-50% ratio sampling\n",
        "2. We used the hybrid sampling\n",
        "\n",
        "-- Hybrid performed better.\n",
        "\n",
        "After that, here are the models that gave the highest accuracies,\n",
        "\n",
        "| Model  | Val set Accuracy  | AUC  | Sampling | Outliers\n",
        "|:-:|:-:|:-:| :-: | :-: |\n",
        "|  Logistic Regression | 0.86  | 0.82  | Hybrid | dropped\n",
        "| SVC  |  0.87  |  0.82 | Hybrid | dropped\n",
        "| XGBoost | 0.86 | 0.83 | Hybrid | dropped\n",
        "\n",
        "###Key Points:\n",
        "\n",
        "- I experimented several models with the given hybrid sampling and feature engineering pipline like XGBoost, KNN, Random Forests but his one performed the best.\n",
        "\n",
        "- Since here the variable tare not explainable, I used PCA and then logistic regression as well. But it also did not improve the accuracy.\n",
        "\n",
        "- In this dataset, since the features does not have any names. It was haarder to do the feature selection since we did not know the business importance of the dataset and we purely relied on statistical tests to determine the importance.\n",
        "\n",
        "- If we did have the feature names, we could have used our domain knowledge to decide if the given feature is required or not.\n",
        "\n",
        "- Also, if the aim is defined we could have perhaps chosen the different model to see the precision recall for our purpose.\n",
        "\n",
        "- The logistic regression and the SVC performed the best since they try to make the dataset somewhat linearly separable. Again the precison and recall for both technique are different so selecting the final model would also depend on our problem statement.\n",
        "\n",
        "\n",
        "We could have tried knn imputations that we talked about earlier. We could alse address the skewed distribuition to first transform it normal distribuition using log transforms.\n",
        "\n",
        "We also have not removed the outliers from the val dataset since we did not want to leak any data and wanted to predict on the whole val data. But we could remove outliers to again get better accuracies\n",
        "\n"
      ]
    }
  ]
}